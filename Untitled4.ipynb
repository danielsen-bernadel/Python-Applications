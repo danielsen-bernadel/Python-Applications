{
 "cells": [
  {
   "cell_type": "code",
   "execution_count": 1,
   "id": "589a7cdc-5bf5-4c12-9eca-4bba67351422",
   "metadata": {},
   "outputs": [],
   "source": [
    "from pytz import timezone\n",
    "import matplotlib.pyplot as plt\n",
    "import pandas as pd\n",
    "import time\n",
    "from datetime import datetime\n",
    "import MetaTrader5 as mt5\n",
    "import pandas as pd\n",
    "import pytz\n",
    "\n",
    "utc_tz = timezone('UTC')\n",
    "pd.set_option('display.max_columns', 500) # number of columns to be displayed\n",
    "pd.set_option('display.width', 1500)      # max table width to display\n",
    " \n",
    "\n",
    "if not mt5.initialize():\n",
    "    print(\"initialize() failed, error code =\",mt5.last_error())\n",
    "    quit()"
   ]
  },
  {
   "cell_type": "code",
   "execution_count": 2,
   "id": "2e1546df-76a8-473a-8883-b27ce965e1e9",
   "metadata": {},
   "outputs": [
    {
     "data": {
      "text/plain": [
       "'time_frame=[mt5.TIMEFRAME_M1, mt5.TIMEFRAME_M2,mt5.TIMEFRAME_M3,\\nmt5.TIMEFRAME_M4, mt5.TIMEFRAME_M5, mt5.TIMEFRAME_M6,mt5.TIMEFRAME_M10,\\nmt5.TIMEFRAME_M12,mt5.TIMEFRAME_M15, mt5.TIMEFRAME_M20,mt5.TIMEFRAME_M30,\\nmt5.TIMEFRAME_H1,mt5.TIMEFRAME_H2, mt5.TIMEFRAME_H3,mt5.TIMEFRAME_H4,\\nmt5.TIMEFRAME_H6,mt5.TIMEFRAME_H8, mt5.TIMEFRAME_H12,mt5.TIMEFRAME_D1,\\nmt5.TIMEFRAME_W1, mt5.TIMEFRAME_MN1]'"
      ]
     },
     "execution_count": 2,
     "metadata": {},
     "output_type": "execute_result"
    }
   ],
   "source": [
    "currency_pair =[\"EURUSD\",\"EURGBP\",\"EURJPY\",\"EURAUD\",\"EURNZD\",\n",
    "\"EURCHF\",\"EURCAD\",\"GBPUSD\", \"GBPJPY\",\"GBPAUD\",\"GBPNZD\",\"GBPCAD\",\n",
    "\"GBPCHF\",\"USDCAD\", \"USDJPY\",\"CHFJPY\",\"CADJPY\",\"NZDJPY\",\"AUDJPY\",\n",
    "\"AUDNZD\",\"AUDCAD\", \"NZDUSD\",\"NZDCAD\",\"NZDCHF\",\"AUDCHF\",\"CADCHF\",\n",
    "\"AUDUSD\",\"USDCHF\"]\n",
    "\n",
    "time_frame=[mt5.TIMEFRAME_M1, mt5.TIMEFRAME_M5, mt5.TIMEFRAME_M15, mt5.TIMEFRAME_M30,\n",
    "mt5.TIMEFRAME_H1, mt5.TIMEFRAME_D1,mt5.TIMEFRAME_W1]\n",
    "'''time_frame=[mt5.TIMEFRAME_M1, mt5.TIMEFRAME_M2,mt5.TIMEFRAME_M3,\n",
    "mt5.TIMEFRAME_M4, mt5.TIMEFRAME_M5, mt5.TIMEFRAME_M6,mt5.TIMEFRAME_M10,\n",
    "mt5.TIMEFRAME_M12,mt5.TIMEFRAME_M15, mt5.TIMEFRAME_M20,mt5.TIMEFRAME_M30,\n",
    "mt5.TIMEFRAME_H1,mt5.TIMEFRAME_H2, mt5.TIMEFRAME_H3,mt5.TIMEFRAME_H4,\n",
    "mt5.TIMEFRAME_H6,mt5.TIMEFRAME_H8, mt5.TIMEFRAME_H12,mt5.TIMEFRAME_D1,\n",
    "mt5.TIMEFRAME_W1, mt5.TIMEFRAME_MN1]'''"
   ]
  },
  {
   "cell_type": "code",
   "execution_count": 3,
   "id": "da8ad03b-8484-4468-917b-b270968ecea1",
   "metadata": {},
   "outputs": [],
   "source": [
    "# set time zone to UTC\n",
    "timezone = pytz.timezone(\"Etc/UTC\")\n",
    "now = datetime.now()\n",
    "# create 'datetime' object in UTC time zone to avoid the implementation of a local time zone offset\n",
    "utc_from = datetime(2020, 1, 10, tzinfo=timezone)\n",
    "lookback = 15\n",
    "\n",
    "period=mt5.TIMEFRAME_D1\n",
    "start=time.time()\n",
    "\n",
    "\n",
    "\n",
    "for pair in currency_pair:\n",
    "    ohlc = mt5.copy_rates_from(pair, period, datetime.now(), lookback)\n",
    "    df = pd.DataFrame(ohlc)"
   ]
  },
  {
   "cell_type": "code",
   "execution_count": 6,
   "id": "9b98a44c-49ad-4470-b138-12088d4ef3b1",
   "metadata": {},
   "outputs": [
    {
     "ename": "AttributeError",
     "evalue": "'DataFrame' object has no attribute 'EURUSD'",
     "output_type": "error",
     "traceback": [
      "\u001b[1;31m---------------------------------------------------------------------------\u001b[0m",
      "\u001b[1;31mAttributeError\u001b[0m                            Traceback (most recent call last)",
      "Input \u001b[1;32mIn [6]\u001b[0m, in \u001b[0;36m<cell line: 1>\u001b[1;34m()\u001b[0m\n\u001b[1;32m----> 1\u001b[0m \u001b[43mdf\u001b[49m\u001b[38;5;241;43m.\u001b[39;49m\u001b[43mEURUSD\u001b[49m\n",
      "File \u001b[1;32m~\\AppData\\Local\\Programs\\Python\\Python310\\lib\\site-packages\\pandas\\core\\generic.py:5575\u001b[0m, in \u001b[0;36mNDFrame.__getattr__\u001b[1;34m(self, name)\u001b[0m\n\u001b[0;32m   5568\u001b[0m \u001b[38;5;28;01mif\u001b[39;00m (\n\u001b[0;32m   5569\u001b[0m     name \u001b[38;5;129;01mnot\u001b[39;00m \u001b[38;5;129;01min\u001b[39;00m \u001b[38;5;28mself\u001b[39m\u001b[38;5;241m.\u001b[39m_internal_names_set\n\u001b[0;32m   5570\u001b[0m     \u001b[38;5;129;01mand\u001b[39;00m name \u001b[38;5;129;01mnot\u001b[39;00m \u001b[38;5;129;01min\u001b[39;00m \u001b[38;5;28mself\u001b[39m\u001b[38;5;241m.\u001b[39m_metadata\n\u001b[0;32m   5571\u001b[0m     \u001b[38;5;129;01mand\u001b[39;00m name \u001b[38;5;129;01mnot\u001b[39;00m \u001b[38;5;129;01min\u001b[39;00m \u001b[38;5;28mself\u001b[39m\u001b[38;5;241m.\u001b[39m_accessors\n\u001b[0;32m   5572\u001b[0m     \u001b[38;5;129;01mand\u001b[39;00m \u001b[38;5;28mself\u001b[39m\u001b[38;5;241m.\u001b[39m_info_axis\u001b[38;5;241m.\u001b[39m_can_hold_identifiers_and_holds_name(name)\n\u001b[0;32m   5573\u001b[0m ):\n\u001b[0;32m   5574\u001b[0m     \u001b[38;5;28;01mreturn\u001b[39;00m \u001b[38;5;28mself\u001b[39m[name]\n\u001b[1;32m-> 5575\u001b[0m \u001b[38;5;28;01mreturn\u001b[39;00m \u001b[38;5;28;43mobject\u001b[39;49m\u001b[38;5;241;43m.\u001b[39;49m\u001b[38;5;21;43m__getattribute__\u001b[39;49m\u001b[43m(\u001b[49m\u001b[38;5;28;43mself\u001b[39;49m\u001b[43m,\u001b[49m\u001b[43m \u001b[49m\u001b[43mname\u001b[49m\u001b[43m)\u001b[49m\n",
      "\u001b[1;31mAttributeError\u001b[0m: 'DataFrame' object has no attribute 'EURUSD'"
     ]
    }
   ],
   "source": [
    "df.EURUSD"
   ]
  },
  {
   "cell_type": "code",
   "execution_count": null,
   "id": "7b804255-533c-40ef-9ef5-e309771ecd55",
   "metadata": {},
   "outputs": [],
   "source": []
  }
 ],
 "metadata": {
  "kernelspec": {
   "display_name": "Python 3 (ipykernel)",
   "language": "python",
   "name": "python3"
  },
  "language_info": {
   "codemirror_mode": {
    "name": "ipython",
    "version": 3
   },
   "file_extension": ".py",
   "mimetype": "text/x-python",
   "name": "python",
   "nbconvert_exporter": "python",
   "pygments_lexer": "ipython3",
   "version": "3.10.5"
  }
 },
 "nbformat": 4,
 "nbformat_minor": 5
}
