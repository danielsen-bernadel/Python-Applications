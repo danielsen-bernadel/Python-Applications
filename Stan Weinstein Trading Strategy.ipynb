{
 "cells": [
  {
   "cell_type": "code",
   "execution_count": null,
   "id": "5aa6e042-a008-4423-9d7d-f3dc4ec79f7e",
   "metadata": {},
   "outputs": [],
   "source": [
    "//@version=4\n",
    "//Relative Strength\n",
    "strategy(\"Stan my man\", overlay=false)\n",
    "comparativeTickerId = input(\"SPY\", type=input.symbol, title=\"Comparative Symbol\")\n",
    "l = input(50, type=input.integer, minval=1, title=\"Period\")\n",
    "baseSymbol = security(syminfo.tickerid, timeframe.period, close)\n",
    "comparativeSymbol = security(comparativeTickerId, timeframe.period, close)\n",
    "hline(0, color=color.black, linestyle=hline.style_dotted)\n",
    "res = baseSymbol / baseSymbol[l] / \n",
    " (comparativeSymbol / comparativeSymbol[l]) - 1\n",
    "plot(res, title=\"RS\", color=#1155CC)\n",
    "//volume ma\n",
    "vol1 = sma(volume,5)\n",
    "// 30 week ma\n",
    "sma1 = sma(close, 30)\n",
    "//consolidation\n",
    "h1 = highest(high[1],52)\n",
    "// trade conditions\n",
    "if close>sma1 and res>0 and volume>vol1 and close>h1\n",
    " strategy.entry(\"long\",strategy.long)\n",
    "if close<sma1\n",
    " strategy.close(\"long\""
   ]
  }
 ],
 "metadata": {
  "kernelspec": {
   "display_name": "Python 3 (ipykernel)",
   "language": "python",
   "name": "python3"
  },
  "language_info": {
   "codemirror_mode": {
    "name": "ipython",
    "version": 3
   },
   "file_extension": ".py",
   "mimetype": "text/x-python",
   "name": "python",
   "nbconvert_exporter": "python",
   "pygments_lexer": "ipython3",
   "version": "3.10.5"
  }
 },
 "nbformat": 4,
 "nbformat_minor": 5
}
