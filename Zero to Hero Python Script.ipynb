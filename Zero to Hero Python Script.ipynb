{
 "cells": [
  {
   "cell_type": "code",
   "execution_count": null,
   "id": "a8c74563",
   "metadata": {},
   "outputs": [],
   "source": [
    "a= -5\n",
    "b = 6\n",
    "c = a+b\n",
    "print(c)"
   ]
  },
  {
   "cell_type": "code",
   "execution_count": null,
   "id": "77818395",
   "metadata": {},
   "outputs": [],
   "source": [
    "abs(a)"
   ]
  },
  {
   "cell_type": "code",
   "execution_count": null,
   "id": "64b6b960",
   "metadata": {},
   "outputs": [],
   "source": [
    "import yfinance as yf\n",
    "import pandas as pd\n",
    "import numpy as np\n",
    "import matplotlib.pyplot as plt"
   ]
  },
  {
   "cell_type": "code",
   "execution_count": null,
   "id": "0e22ae7d",
   "metadata": {},
   "outputs": [],
   "source": [
    "Apple = yf.download(\"AAPL\", start = \"2010-01-01\",end =\"2021-01-01\")"
   ]
  },
  {
   "cell_type": "code",
   "execution_count": null,
   "id": "e9f6952f",
   "metadata": {},
   "outputs": [],
   "source": [
    "Apple"
   ]
  },
  {
   "cell_type": "code",
   "execution_count": null,
   "id": "55ca31a4",
   "metadata": {},
   "outputs": [],
   "source": [
    " a = [1,2,3,5]\n",
    "a"
   ]
  },
  {
   "cell_type": "code",
   "execution_count": null,
   "id": "4df0ac86",
   "metadata": {},
   "outputs": [],
   "source": [
    "ticker=[\"SPY\",\"AAPL\",\"KO\"]"
   ]
  },
  {
   "cell_type": "code",
   "execution_count": null,
   "id": "9db39216",
   "metadata": {},
   "outputs": [],
   "source": [
    "stocks = yf.download(ticker, start = \"2010-01-01\",end =\"2021-01-01\")"
   ]
  },
  {
   "cell_type": "code",
   "execution_count": null,
   "id": "bc0caa77",
   "metadata": {},
   "outputs": [],
   "source": [
    "stocks"
   ]
  },
  {
   "cell_type": "code",
   "execution_count": null,
   "id": "b28c3267",
   "metadata": {},
   "outputs": [],
   "source": [
    "stocks.head()"
   ]
  },
  {
   "cell_type": "code",
   "execution_count": null,
   "id": "917a8f38",
   "metadata": {},
   "outputs": [],
   "source": [
    "stocks.tail()"
   ]
  },
  {
   "cell_type": "code",
   "execution_count": null,
   "id": "0a7b1cd5",
   "metadata": {},
   "outputs": [],
   "source": [
    "stocks.info()"
   ]
  },
  {
   "cell_type": "code",
   "execution_count": null,
   "id": "7aea1362",
   "metadata": {},
   "outputs": [],
   "source": [
    "stocks.to_csv(\"stocksYT.csv\")"
   ]
  },
  {
   "cell_type": "code",
   "execution_count": null,
   "id": "4e67fe5d",
   "metadata": {},
   "outputs": [],
   "source": [
    "stocks = pd.read_csv(\"stocksYT.csv\")"
   ]
  },
  {
   "cell_type": "code",
   "execution_count": null,
   "id": "642fcb9b",
   "metadata": {},
   "outputs": [],
   "source": [
    "stocks"
   ]
  },
  {
   "cell_type": "code",
   "execution_count": null,
   "id": "a9a58bc3",
   "metadata": {},
   "outputs": [],
   "source": [
    "stocks = pd.read_csv(\"stocksYT.csv\",header=[0,1])\n",
    "stocks"
   ]
  },
  {
   "cell_type": "code",
   "execution_count": null,
   "id": "8823f7c4",
   "metadata": {},
   "outputs": [],
   "source": [
    "stocks = pd.read_csv(\"stocksYT.csv\",header=[0,1],index_col=[0])\n",
    "stocks"
   ]
  },
  {
   "cell_type": "code",
   "execution_count": null,
   "id": "5aeef65c",
   "metadata": {},
   "outputs": [],
   "source": [
    "stocks = pd.read_csv(\"stocksYT.csv\",header=[0,1],index_col=[0], parse_dates=[0])\n",
    "stocks"
   ]
  },
  {
   "cell_type": "code",
   "execution_count": null,
   "id": "169a40fa",
   "metadata": {},
   "outputs": [],
   "source": [
    "stocks.columns"
   ]
  },
  {
   "cell_type": "code",
   "execution_count": null,
   "id": "e6cb689c",
   "metadata": {},
   "outputs": [],
   "source": [
    "#convert mult index to one tuple\n",
    "stocks.columns=stocks.columns.to_flat_index()"
   ]
  },
  {
   "cell_type": "code",
   "execution_count": null,
   "id": "6d90746a",
   "metadata": {},
   "outputs": [],
   "source": [
    "stocks.columns"
   ]
  },
  {
   "cell_type": "code",
   "execution_count": null,
   "id": "8f4a838f",
   "metadata": {},
   "outputs": [],
   "source": [
    "stocks"
   ]
  },
  {
   "cell_type": "code",
   "execution_count": null,
   "id": "265386ee",
   "metadata": {},
   "outputs": [],
   "source": [
    "stocks.columns=pd.MultiIndex.from_tuples(stocks.columns)\n",
    "stocks"
   ]
  },
  {
   "cell_type": "code",
   "execution_count": null,
   "id": "36f66015",
   "metadata": {},
   "outputs": [],
   "source": [
    "stocks.columns"
   ]
  },
  {
   "cell_type": "code",
   "execution_count": null,
   "id": "dcd1ff80",
   "metadata": {},
   "outputs": [],
   "source": [
    "stocks.describe()"
   ]
  },
  {
   "cell_type": "code",
   "execution_count": null,
   "id": "76008c32",
   "metadata": {},
   "outputs": [],
   "source": [
    "close=stocks.loc[:,\"Close\"].copy()"
   ]
  },
  {
   "cell_type": "code",
   "execution_count": null,
   "id": "612ecc53",
   "metadata": {},
   "outputs": [],
   "source": [
    "close"
   ]
  },
  {
   "cell_type": "code",
   "execution_count": null,
   "id": "5bb4d17a",
   "metadata": {},
   "outputs": [],
   "source": [
    "%matplotlib inline\n",
    "import matplotlib.pyplot as plt\n",
    "plt.style.use(\"seaborn\")"
   ]
  },
  {
   "cell_type": "code",
   "execution_count": null,
   "id": "c14d17ad",
   "metadata": {},
   "outputs": [],
   "source": [
    "close.plot(figsize=(15,8),fontsize=12)\n",
    "plt.legend(fontsize=12)\n",
    "plt.show()"
   ]
  },
  {
   "cell_type": "code",
   "execution_count": null,
   "id": "c2b6fe30",
   "metadata": {},
   "outputs": [],
   "source": [
    "close.iloc[0,0]"
   ]
  },
  {
   "cell_type": "code",
   "execution_count": null,
   "id": "b88e0e89",
   "metadata": {},
   "outputs": [],
   "source": [
    "close.AAPL"
   ]
  },
  {
   "cell_type": "code",
   "execution_count": null,
   "id": "0085c537",
   "metadata": {},
   "outputs": [],
   "source": [
    "close.AAPL.div(close.iloc[0,0])"
   ]
  },
  {
   "cell_type": "code",
   "execution_count": null,
   "id": "4ec7f0ab",
   "metadata": {},
   "outputs": [],
   "source": [
    "close.AAPL.div(close.iloc[0,0]).mul(100)"
   ]
  },
  {
   "cell_type": "code",
   "execution_count": null,
   "id": "e9f85ab3",
   "metadata": {},
   "outputs": [],
   "source": [
    "close.iloc[0]"
   ]
  },
  {
   "cell_type": "code",
   "execution_count": null,
   "id": "338eb218",
   "metadata": {},
   "outputs": [],
   "source": [
    "close.div(close.iloc[0]).mul(100)"
   ]
  },
  {
   "cell_type": "code",
   "execution_count": null,
   "id": "64717030",
   "metadata": {},
   "outputs": [],
   "source": [
    "normclose=close.div(close.iloc[0]).mul(100)"
   ]
  },
  {
   "cell_type": "code",
   "execution_count": null,
   "id": "a9d74e11",
   "metadata": {},
   "outputs": [],
   "source": [
    "normclose.plot(figsize=(15,8),fontsize=12)\n",
    "plt.legend(fontsize=12)\n",
    "plt.show()"
   ]
  },
  {
   "cell_type": "code",
   "execution_count": null,
   "id": "2c9f26f7",
   "metadata": {},
   "outputs": [],
   "source": [
    "aapl= close.AAPL.copy().to_frame()"
   ]
  },
  {
   "cell_type": "code",
   "execution_count": null,
   "id": "363bc360",
   "metadata": {},
   "outputs": [],
   "source": [
    "aapl"
   ]
  },
  {
   "cell_type": "code",
   "execution_count": null,
   "id": "294289f6",
   "metadata": {},
   "outputs": [],
   "source": [
    "aapl.shift(periods=1)"
   ]
  },
  {
   "cell_type": "code",
   "execution_count": null,
   "id": "6c622abf",
   "metadata": {},
   "outputs": [],
   "source": [
    "aapl[\"lag1\"]=aapl.shift(periods=1)"
   ]
  },
  {
   "cell_type": "code",
   "execution_count": null,
   "id": "e378957b",
   "metadata": {},
   "outputs": [],
   "source": [
    "aapl"
   ]
  },
  {
   "cell_type": "code",
   "execution_count": null,
   "id": "2089fdaa",
   "metadata": {},
   "outputs": [],
   "source": [
    "aapl[\"Diff\"]=aapl.AAPL.sub(aapl.lag1)"
   ]
  },
  {
   "cell_type": "code",
   "execution_count": null,
   "id": "83be3989",
   "metadata": {},
   "outputs": [],
   "source": [
    "aapl"
   ]
  },
  {
   "cell_type": "code",
   "execution_count": null,
   "id": "4a76683b",
   "metadata": {},
   "outputs": [],
   "source": [
    "aapl[\"% Change\"]=aapl.AAPL.div(aapl.lag1).sub(1).mul(100)"
   ]
  },
  {
   "cell_type": "code",
   "execution_count": null,
   "id": "2810e293",
   "metadata": {},
   "outputs": [],
   "source": [
    "aapl"
   ]
  },
  {
   "cell_type": "code",
   "execution_count": null,
   "id": "83433611",
   "metadata": {},
   "outputs": [],
   "source": [
    "aapl[\"Diff2\"]=aapl.AAPL.diff(periods=1)\n",
    "aapl"
   ]
  },
  {
   "cell_type": "code",
   "execution_count": null,
   "id": "f570151b",
   "metadata": {},
   "outputs": [],
   "source": [
    "aapl[\"% Change 2\"]=aapl.AAPL.pct_change(periods=1).mul(100)"
   ]
  },
  {
   "cell_type": "code",
   "execution_count": null,
   "id": "7eed3b89",
   "metadata": {},
   "outputs": [],
   "source": [
    "aapl"
   ]
  },
  {
   "cell_type": "code",
   "execution_count": null,
   "id": "3df8bc99",
   "metadata": {},
   "outputs": [],
   "source": [
    "del aapl[\"% Change\"]"
   ]
  },
  {
   "cell_type": "code",
   "execution_count": null,
   "id": "79c7bc13",
   "metadata": {},
   "outputs": [],
   "source": [
    "aapl"
   ]
  },
  {
   "cell_type": "code",
   "execution_count": null,
   "id": "838acc36",
   "metadata": {},
   "outputs": [],
   "source": [
    "aapl.rename(columns = {'% Change 2':'Change'}, inplace = True)"
   ]
  },
  {
   "cell_type": "code",
   "execution_count": null,
   "id": "47ce4e8f",
   "metadata": {},
   "outputs": [],
   "source": [
    "aapl"
   ]
  },
  {
   "cell_type": "code",
   "execution_count": null,
   "id": "05ab9ec2",
   "metadata": {},
   "outputs": [],
   "source": [
    "aapl.AAPL.resample(\"M\").last()"
   ]
  },
  {
   "cell_type": "code",
   "execution_count": null,
   "id": "75430ccf",
   "metadata": {},
   "outputs": [],
   "source": [
    "aapl.AAPL.resample(\"BM\").last().pct_change(periods=1).mul(100)"
   ]
  },
  {
   "cell_type": "code",
   "execution_count": null,
   "id": "92b9ed40",
   "metadata": {},
   "outputs": [],
   "source": [
    "aapl"
   ]
  },
  {
   "cell_type": "code",
   "execution_count": null,
   "id": "6df0ba9a",
   "metadata": {},
   "outputs": [],
   "source": [
    "del aapl[\"Change\"]\n",
    "del aapl[\"Diff2\"]\n",
    "del aapl[\"Diff\"]\n",
    "del aapl[\"lag1\"]"
   ]
  },
  {
   "cell_type": "code",
   "execution_count": null,
   "id": "73972f68",
   "metadata": {},
   "outputs": [],
   "source": [
    "aapl"
   ]
  },
  {
   "cell_type": "code",
   "execution_count": null,
   "id": "1f36b1af",
   "metadata": {},
   "outputs": [],
   "source": [
    "ret = aapl.pct_change().dropna()\n",
    "\n"
   ]
  },
  {
   "cell_type": "code",
   "execution_count": null,
   "id": "d598ab5d",
   "metadata": {},
   "outputs": [],
   "source": [
    "ret.info()\n"
   ]
  },
  {
   "cell_type": "code",
   "execution_count": null,
   "id": "642e14ae",
   "metadata": {},
   "outputs": [],
   "source": [
    "ret.plot(kind=\"hist\",figsize=(12,8), bins=100)\n",
    "plt.show()"
   ]
  },
  {
   "cell_type": "code",
   "execution_count": null,
   "id": "fc538dbf",
   "metadata": {},
   "outputs": [],
   "source": [
    "daily_mean_ret=ret.mean()\n",
    "daily_mean_ret"
   ]
  },
  {
   "cell_type": "code",
   "execution_count": null,
   "id": "20300bb7",
   "metadata": {},
   "outputs": [],
   "source": [
    "var_daily=ret.var()\n",
    "var_daily"
   ]
  },
  {
   "cell_type": "code",
   "execution_count": null,
   "id": "833c907d",
   "metadata": {},
   "outputs": [],
   "source": [
    "std_daily=np.sqrt(var_daily)"
   ]
  },
  {
   "cell_type": "code",
   "execution_count": null,
   "id": "e98090c3",
   "metadata": {},
   "outputs": [],
   "source": [
    "std_daily"
   ]
  },
  {
   "cell_type": "code",
   "execution_count": null,
   "id": "9d78097e",
   "metadata": {},
   "outputs": [],
   "source": [
    "ret.std()"
   ]
  },
  {
   "cell_type": "code",
   "execution_count": null,
   "id": "868720bd",
   "metadata": {},
   "outputs": [],
   "source": [
    "annual_mean_ret=daily_mean_ret*252\n",
    "annual_mean_ret"
   ]
  },
  {
   "cell_type": "code",
   "execution_count": null,
   "id": "f7ef89a6",
   "metadata": {},
   "outputs": [],
   "source": [
    "annual_var_return=var_daily*252\n",
    "annual_var_return"
   ]
  },
  {
   "cell_type": "code",
   "execution_count": null,
   "id": "2f69a66d",
   "metadata": {},
   "outputs": [],
   "source": [
    "annual_std_retuens=np.sqrt(annual_var_return)"
   ]
  },
  {
   "cell_type": "code",
   "execution_count": null,
   "id": "1b599b6d",
   "metadata": {},
   "outputs": [],
   "source": [
    "annual_std_retuens"
   ]
  },
  {
   "cell_type": "code",
   "execution_count": null,
   "id": "580e21c2",
   "metadata": {},
   "outputs": [],
   "source": [
    "ret.std()*np.sqrt(252)"
   ]
  },
  {
   "cell_type": "code",
   "execution_count": null,
   "id": "5b54d97b",
   "metadata": {},
   "outputs": [],
   "source": [
    "ticker=[\"SPY\",\"AAPL\",\"KO\",\"IBM\",\"DIS\",\"MSFT\"]"
   ]
  },
  {
   "cell_type": "code",
   "execution_count": null,
   "id": "27d0ca8a",
   "metadata": {},
   "outputs": [],
   "source": [
    "stocks = yf.download(ticker, start = \"2010-01-01\",end =\"2021-01-01\")"
   ]
  },
  {
   "cell_type": "code",
   "execution_count": null,
   "id": "0e58ff7b",
   "metadata": {},
   "outputs": [],
   "source": [
    "close=stocks.loc[:,\"Close\"].copy()"
   ]
  },
  {
   "cell_type": "code",
   "execution_count": null,
   "id": "83b34054",
   "metadata": {},
   "outputs": [],
   "source": [
    "normclose=close.div(close.iloc[0]).mul(100)"
   ]
  },
  {
   "cell_type": "code",
   "execution_count": null,
   "id": "f662c774",
   "metadata": {},
   "outputs": [],
   "source": [
    "normclose.plot(figsize=(15,8),fontsize=12)\n",
    "plt.legend(fontsize=12)\n",
    "plt.show()"
   ]
  },
  {
   "cell_type": "code",
   "execution_count": null,
   "id": "feaf8e4d",
   "metadata": {},
   "outputs": [],
   "source": [
    "ret=close.pct_change().dropna()\n",
    "ret.head()"
   ]
  },
  {
   "cell_type": "code",
   "execution_count": null,
   "id": "7a877a48",
   "metadata": {},
   "outputs": [],
   "source": [
    "ret.describe().T"
   ]
  },
  {
   "cell_type": "code",
   "execution_count": null,
   "id": "ad8b827d",
   "metadata": {},
   "outputs": [],
   "source": [
    "summary=ret.describe().T.loc[:,[\"mean\",\"std\"]]\n",
    "summary"
   ]
  },
  {
   "cell_type": "code",
   "execution_count": null,
   "id": "61bb3694",
   "metadata": {},
   "outputs": [],
   "source": [
    "summary[\"mean\"]=summary[\"mean\"]*252\n",
    "summary[\"std\"]=summary[\"std\"]*np.sqrt(252)\n",
    "summary"
   ]
  },
  {
   "cell_type": "code",
   "execution_count": null,
   "id": "ca4eee49",
   "metadata": {
    "scrolled": true
   },
   "outputs": [],
   "source": [
    "summary.plot.scatter(x=\"std\",y=\"mean\",figsize=(12,8),s=50,fontsize=15)\n",
    "for i in summary.index:\n",
    "    plt.annotate(i,xy=(summary.loc[i,\"std\"]+0.002,summary.loc[i,\"mean\"]+0.002),size=15)\n",
    "plt.xlabel(\"Annual risk(std)\",fontsize = 15)\n",
    "plt.ylabel(\"Annual return\",fontsize = 15)\n",
    "plt.title(\"Risk/return\",fontsize=25)\n",
    "plt.show()"
   ]
  },
  {
   "cell_type": "code",
   "execution_count": null,
   "id": "549f5030",
   "metadata": {},
   "outputs": [],
   "source": [
    "fruits = [\"aaple\",\"banaba\",\"mango\"]\n",
    "for i in fruits:\n",
    "    print(i)"
   ]
  },
  {
   "cell_type": "code",
   "execution_count": null,
   "id": "28acf9e9",
   "metadata": {},
   "outputs": [],
   "source": [
    "fruits[1]"
   ]
  },
  {
   "cell_type": "markdown",
   "id": "f5266ac3",
   "metadata": {},
   "source": [
    "## Correlation and Covariance"
   ]
  },
  {
   "cell_type": "code",
   "execution_count": null,
   "id": "3a76b2f9",
   "metadata": {},
   "outputs": [],
   "source": [
    "# comment"
   ]
  },
  {
   "cell_type": "code",
   "execution_count": null,
   "id": "b8616476",
   "metadata": {},
   "outputs": [],
   "source": [
    "ret"
   ]
  },
  {
   "cell_type": "code",
   "execution_count": null,
   "id": "9dc03aec",
   "metadata": {},
   "outputs": [],
   "source": [
    "ret.cov()"
   ]
  },
  {
   "cell_type": "code",
   "execution_count": null,
   "id": "010e1124",
   "metadata": {},
   "outputs": [],
   "source": [
    "ret.corr()"
   ]
  },
  {
   "cell_type": "code",
   "execution_count": null,
   "id": "767bcd89",
   "metadata": {},
   "outputs": [],
   "source": [
    "import seaborn as sns"
   ]
  },
  {
   "cell_type": "code",
   "execution_count": null,
   "id": "d5263fdb",
   "metadata": {},
   "outputs": [],
   "source": [
    "plt.figure(figsize=(12,8))\n",
    "sns.set(font_scale=1.4)\n",
    "sns.heatmap(ret.corr(),cmap=\"Reds\",annot=True,annot_kws={\"size\":15},vmax=0.6)\n",
    "plt.show()"
   ]
  },
  {
   "cell_type": "markdown",
   "id": "a8069093",
   "metadata": {},
   "source": [
    "## Challenge 1\n",
    "### Download 20 random stocks and \n",
    "### 1. Calcualte risk and reward potential \n",
    "### 2. Compare the covariance and coorelation\n",
    "### 3. Find the best 5 to invest in long term"
   ]
  },
  {
   "cell_type": "markdown",
   "id": "83bed685",
   "metadata": {},
   "source": [
    "# Simple returns and log returns"
   ]
  },
  {
   "cell_type": "code",
   "execution_count": null,
   "id": "20b38781",
   "metadata": {},
   "outputs": [],
   "source": [
    "df = pd.DataFrame(index=[2016,2017,2018],data=[100,50,95],columns=[\"Price\"])"
   ]
  },
  {
   "cell_type": "code",
   "execution_count": null,
   "id": "8d771a7f",
   "metadata": {},
   "outputs": [],
   "source": [
    "df"
   ]
  },
  {
   "cell_type": "code",
   "execution_count": null,
   "id": "808932c9",
   "metadata": {},
   "outputs": [],
   "source": [
    "simplereturns=df.pct_change().dropna()\n",
    "simplereturns"
   ]
  },
  {
   "cell_type": "code",
   "execution_count": null,
   "id": "a4c5f842",
   "metadata": {},
   "outputs": [],
   "source": [
    "simplereturns.mean()"
   ]
  },
  {
   "cell_type": "code",
   "execution_count": null,
   "id": "b92ab991",
   "metadata": {},
   "outputs": [],
   "source": [
    "100*1.2*1.2"
   ]
  },
  {
   "cell_type": "code",
   "execution_count": null,
   "id": "9bcc4ebe",
   "metadata": {},
   "outputs": [],
   "source": [
    "#Mean returns are misleading as crazy"
   ]
  },
  {
   "cell_type": "code",
   "execution_count": null,
   "id": "0d4bfc7d",
   "metadata": {},
   "outputs": [],
   "source": [
    "logreturns=np.log(df/df.shift(1)).dropna()\n",
    "logreturns"
   ]
  },
  {
   "cell_type": "code",
   "execution_count": null,
   "id": "5948164b",
   "metadata": {},
   "outputs": [],
   "source": [
    "logreturns.mean()"
   ]
  },
  {
   "cell_type": "code",
   "execution_count": null,
   "id": "7d11c4cd",
   "metadata": {},
   "outputs": [],
   "source": [
    "100*np.exp(logreturns.mean()*2)"
   ]
  },
  {
   "cell_type": "code",
   "execution_count": null,
   "id": "6f2fabb2",
   "metadata": {},
   "outputs": [],
   "source": [
    "SPY = yf.download(\"SPY\")"
   ]
  },
  {
   "cell_type": "code",
   "execution_count": null,
   "id": "61533fd2",
   "metadata": {},
   "outputs": [],
   "source": [
    "spy=SPY.Close.to_frame()"
   ]
  },
  {
   "cell_type": "code",
   "execution_count": null,
   "id": "3827db3d",
   "metadata": {},
   "outputs": [],
   "source": [
    "spy"
   ]
  },
  {
   "cell_type": "code",
   "execution_count": null,
   "id": "2b8d6184",
   "metadata": {},
   "outputs": [],
   "source": [
    "spy.plot(figsize=(12,8),fontsize=15)\n",
    "plt.legend(loc=\"upper left\", fontsize=15)\n",
    "plt.show()"
   ]
  },
  {
   "cell_type": "code",
   "execution_count": null,
   "id": "effebf7a",
   "metadata": {},
   "outputs": [],
   "source": [
    "spy_roll=spy.rolling(window=10)"
   ]
  },
  {
   "cell_type": "code",
   "execution_count": null,
   "id": "08ad7a36",
   "metadata": {},
   "outputs": [],
   "source": [
    "spy_roll=spy_roll.mean()"
   ]
  },
  {
   "cell_type": "code",
   "execution_count": null,
   "id": "9c1519dd",
   "metadata": {},
   "outputs": [],
   "source": [
    "spy_roll.head(15)"
   ]
  },
  {
   "cell_type": "code",
   "execution_count": null,
   "id": "ffc59c8d",
   "metadata": {},
   "outputs": [],
   "source": [
    "spy.rolling(window=10).median()"
   ]
  },
  {
   "cell_type": "code",
   "execution_count": null,
   "id": "5a1c8299",
   "metadata": {},
   "outputs": [],
   "source": [
    "spy.rolling(window=10).max()"
   ]
  },
  {
   "cell_type": "code",
   "execution_count": null,
   "id": "31981035",
   "metadata": {},
   "outputs": [],
   "source": [
    "spy.rolling(window=10,min_periods=5).max()"
   ]
  },
  {
   "cell_type": "code",
   "execution_count": null,
   "id": "f6c9853b",
   "metadata": {},
   "outputs": [],
   "source": [
    "spy"
   ]
  },
  {
   "cell_type": "code",
   "execution_count": null,
   "id": "37f50c01",
   "metadata": {},
   "outputs": [],
   "source": [
    "spy[\"SMA50\"]=spy.rolling(window=50,min_periods=50).mean()"
   ]
  },
  {
   "cell_type": "code",
   "execution_count": null,
   "id": "65fcd009",
   "metadata": {},
   "outputs": [],
   "source": [
    "spy"
   ]
  },
  {
   "cell_type": "code",
   "execution_count": null,
   "id": "1cee3512",
   "metadata": {},
   "outputs": [],
   "source": [
    "spy.plot(figsize=(12,8),fontsize=15)\n",
    "plt.legend(loc=\"upper left\", fontsize=15)\n",
    "plt.show()"
   ]
  },
  {
   "cell_type": "code",
   "execution_count": null,
   "id": "9e77cf4f",
   "metadata": {},
   "outputs": [],
   "source": [
    "spy[\"SMA200\"]=spy.Close.rolling(window=200,min_periods=200).mean()\n",
    "spy"
   ]
  },
  {
   "cell_type": "code",
   "execution_count": null,
   "id": "f49067a5",
   "metadata": {},
   "outputs": [],
   "source": [
    "spy.plot(figsize=(12,8),fontsize=15)\n",
    "plt.legend(loc=\"upper left\", fontsize=15)\n",
    "plt.show()"
   ]
  },
  {
   "cell_type": "markdown",
   "id": "39c3c9ad",
   "metadata": {},
   "source": [
    "## Challenge 2\n",
    "### Take the 5 stocks that you picked and plot the moving averages and graph it"
   ]
  },
  {
   "cell_type": "code",
   "execution_count": null,
   "id": "6be62982",
   "metadata": {},
   "outputs": [],
   "source": [
    "spy[\"EMA100\"]=spy.Close.ewm(span=100,min_periods=100).mean()"
   ]
  },
  {
   "cell_type": "code",
   "execution_count": null,
   "id": "125805c0",
   "metadata": {},
   "outputs": [],
   "source": [
    "spy"
   ]
  },
  {
   "cell_type": "code",
   "execution_count": null,
   "id": "7f08e171",
   "metadata": {},
   "outputs": [],
   "source": [
    "spy.plot(figsize=(12,8),fontsize=15)\n",
    "plt.legend(loc=\"upper left\", fontsize=15)\n",
    "plt.show()"
   ]
  },
  {
   "cell_type": "code",
   "execution_count": null,
   "id": "5e3721ac",
   "metadata": {},
   "outputs": [],
   "source": [
    "spy[\"Day\"]=spy.index.day_name()"
   ]
  },
  {
   "cell_type": "code",
   "execution_count": null,
   "id": "d03cbbe0",
   "metadata": {},
   "outputs": [],
   "source": [
    "spy[\"Quarter\"]=spy.index.quarter"
   ]
  },
  {
   "cell_type": "code",
   "execution_count": null,
   "id": "c72d3016",
   "metadata": {},
   "outputs": [],
   "source": [
    "SPY = yf.download(\"SPY\")"
   ]
  },
  {
   "cell_type": "code",
   "execution_count": null,
   "id": "baf6038b",
   "metadata": {},
   "outputs": [],
   "source": [
    "spy=SPY.Close.to_frame()"
   ]
  },
  {
   "cell_type": "code",
   "execution_count": null,
   "id": "66489b8f",
   "metadata": {},
   "outputs": [],
   "source": [
    "all_days=pd.date_range(start=\"2010-12-31\",end=\"2020-01-01\",freq=\"D\")\n",
    "all_days"
   ]
  },
  {
   "cell_type": "code",
   "execution_count": null,
   "id": "f11d8452",
   "metadata": {},
   "outputs": [],
   "source": [
    "spy"
   ]
  },
  {
   "cell_type": "code",
   "execution_count": null,
   "id": "73740b5e",
   "metadata": {},
   "outputs": [],
   "source": [
    "spy=spy.reindex(all_days)"
   ]
  },
  {
   "cell_type": "code",
   "execution_count": null,
   "id": "cae49819",
   "metadata": {},
   "outputs": [],
   "source": [
    "spy"
   ]
  },
  {
   "cell_type": "code",
   "execution_count": null,
   "id": "9b84339c",
   "metadata": {},
   "outputs": [],
   "source": [
    "spy.fillna(method=\"ffill\")"
   ]
  },
  {
   "cell_type": "code",
   "execution_count": null,
   "id": "95fd9b09",
   "metadata": {},
   "outputs": [],
   "source": [
    "spy.fillna(method=\"bfill\")"
   ]
  },
  {
   "cell_type": "code",
   "execution_count": null,
   "id": "83149e32",
   "metadata": {},
   "outputs": [],
   "source": [
    "SPY = yf.download(\"SPY\",interval=\"1wk\")"
   ]
  },
  {
   "cell_type": "code",
   "execution_count": null,
   "id": "ba9a127a",
   "metadata": {},
   "outputs": [],
   "source": [
    "SPY"
   ]
  },
  {
   "cell_type": "markdown",
   "id": "f596edb7",
   "metadata": {},
   "source": [
    "## Cummaltive Returns, Drawdowns etc.."
   ]
  },
  {
   "cell_type": "code",
   "execution_count": null,
   "id": "cb8f3d1e",
   "metadata": {},
   "outputs": [],
   "source": [
    "apple=yf.download(\"AAPL\")"
   ]
  },
  {
   "cell_type": "code",
   "execution_count": null,
   "id": "f2578f34",
   "metadata": {},
   "outputs": [],
   "source": [
    "apple=apple.Close.to_frame()"
   ]
  },
  {
   "cell_type": "code",
   "execution_count": null,
   "id": "539ea24d",
   "metadata": {},
   "outputs": [],
   "source": [
    "apple"
   ]
  },
  {
   "cell_type": "code",
   "execution_count": null,
   "id": "59311f9a",
   "metadata": {},
   "outputs": [],
   "source": [
    "apple[\"d_returns\"]=np.log(apple.div(apple.shift(1)))"
   ]
  },
  {
   "cell_type": "code",
   "execution_count": null,
   "id": "434988ef",
   "metadata": {},
   "outputs": [],
   "source": [
    "apple"
   ]
  },
  {
   "cell_type": "code",
   "execution_count": null,
   "id": "4f2b20c9",
   "metadata": {},
   "outputs": [],
   "source": [
    "apple.dropna(inplace=True)"
   ]
  },
  {
   "cell_type": "code",
   "execution_count": null,
   "id": "e9ed4ba8",
   "metadata": {},
   "outputs": [],
   "source": [
    "apple"
   ]
  },
  {
   "cell_type": "code",
   "execution_count": null,
   "id": "dfecb7d9",
   "metadata": {},
   "outputs": [],
   "source": [
    "apple.d_returns.sum()"
   ]
  },
  {
   "cell_type": "code",
   "execution_count": null,
   "id": "113eb4ae",
   "metadata": {},
   "outputs": [],
   "source": [
    "np.exp(apple.d_returns.sum())"
   ]
  },
  {
   "cell_type": "code",
   "execution_count": null,
   "id": "dea47fde",
   "metadata": {},
   "outputs": [],
   "source": [
    "apple[\"cummreturns\"]=apple.d_returns.cumsum().apply(np.exp)"
   ]
  },
  {
   "cell_type": "code",
   "execution_count": null,
   "id": "3e6fff14",
   "metadata": {},
   "outputs": [],
   "source": [
    "apple"
   ]
  },
  {
   "cell_type": "code",
   "execution_count": null,
   "id": "526b1519",
   "metadata": {},
   "outputs": [],
   "source": [
    "apple.cummreturns.plot(figsize=(12,8),title=\"APPLe buy and hold\", fontsize=12)\n",
    "plt.show()"
   ]
  },
  {
   "cell_type": "code",
   "execution_count": null,
   "id": "beff2848",
   "metadata": {},
   "outputs": [],
   "source": [
    "apple.d_returns.mean()*252"
   ]
  },
  {
   "cell_type": "code",
   "execution_count": null,
   "id": "fa54b3c6",
   "metadata": {},
   "outputs": [],
   "source": [
    "apple.d_returns.std()*np.sqrt(252)"
   ]
  },
  {
   "cell_type": "code",
   "execution_count": null,
   "id": "f15e2b0a",
   "metadata": {},
   "outputs": [],
   "source": [
    "# how to calculate drawdowns\n",
    "apple[\"cummmax\"]=apple.cummreturns.cummax()"
   ]
  },
  {
   "cell_type": "code",
   "execution_count": null,
   "id": "047d8dbf",
   "metadata": {},
   "outputs": [],
   "source": [
    "apple"
   ]
  },
  {
   "cell_type": "code",
   "execution_count": null,
   "id": "27a1e11c",
   "metadata": {},
   "outputs": [],
   "source": [
    "apple[[\"cummreturns\",\"cummmax\"]].plot(figsize=(12,8),title=\"APPLe buy and hold+cummmax\", fontsize=12)\n",
    "plt.show()"
   ]
  },
  {
   "cell_type": "code",
   "execution_count": null,
   "id": "16dd0a3d",
   "metadata": {},
   "outputs": [],
   "source": [
    "apple[\"drawdown\"]=apple[\"cummmax\"]-apple[\"cummreturns\"]"
   ]
  },
  {
   "cell_type": "code",
   "execution_count": null,
   "id": "b8eb21b5",
   "metadata": {},
   "outputs": [],
   "source": [
    "apple"
   ]
  },
  {
   "cell_type": "code",
   "execution_count": null,
   "id": "e9487e7b",
   "metadata": {},
   "outputs": [],
   "source": [
    "apple.drawdown.max()"
   ]
  },
  {
   "cell_type": "code",
   "execution_count": null,
   "id": "71adbb15",
   "metadata": {},
   "outputs": [],
   "source": [
    "apple.drawdown.idxmax()"
   ]
  },
  {
   "cell_type": "code",
   "execution_count": null,
   "id": "406c1d25",
   "metadata": {},
   "outputs": [],
   "source": [
    "apple.loc[(apple.index<='2020-09-18')]"
   ]
  },
  {
   "cell_type": "code",
   "execution_count": null,
   "id": "11e20a22",
   "metadata": {},
   "outputs": [],
   "source": [
    "apple[\"drawdown%\"]=(apple[\"cummmax\"]-apple[\"cummreturns\"])/apple[\"cummmax\"]"
   ]
  },
  {
   "cell_type": "code",
   "execution_count": null,
   "id": "4904eb01",
   "metadata": {},
   "outputs": [],
   "source": [
    "apple"
   ]
  },
  {
   "cell_type": "code",
   "execution_count": null,
   "id": "ace1c95c",
   "metadata": {},
   "outputs": [],
   "source": [
    "apple[\"drawdown%\"].max()"
   ]
  },
  {
   "cell_type": "code",
   "execution_count": null,
   "id": "4d83ee64",
   "metadata": {},
   "outputs": [],
   "source": [
    "apple[\"drawdown%\"].idxmax()"
   ]
  },
  {
   "cell_type": "code",
   "execution_count": null,
   "id": "df0f2a0d",
   "metadata": {},
   "outputs": [],
   "source": [
    "apple.loc[(apple.index<='1997-12-23')]"
   ]
  },
  {
   "cell_type": "markdown",
   "id": "997d629d",
   "metadata": {},
   "source": [
    "## SMA Strategy"
   ]
  },
  {
   "cell_type": "code",
   "execution_count": null,
   "id": "a11401a5",
   "metadata": {},
   "outputs": [],
   "source": [
    "data=apple.Close.loc[(apple.index>='1991-01-01')]"
   ]
  },
  {
   "cell_type": "code",
   "execution_count": null,
   "id": "6f857234",
   "metadata": {},
   "outputs": [],
   "source": [
    "data=data.to_frame()"
   ]
  },
  {
   "cell_type": "code",
   "execution_count": null,
   "id": "945eda4b",
   "metadata": {},
   "outputs": [],
   "source": [
    "data"
   ]
  },
  {
   "cell_type": "code",
   "execution_count": null,
   "id": "3245a7c3",
   "metadata": {},
   "outputs": [],
   "source": [
    "sma_s=50\n",
    "sma_l=100"
   ]
  },
  {
   "cell_type": "code",
   "execution_count": null,
   "id": "77338784",
   "metadata": {},
   "outputs": [],
   "source": [
    "data[\"sma_s\"]=data.Close.rolling(sma_s).mean()\n",
    "data[\"sma_l\"]=data.Close.rolling(sma_l).mean()"
   ]
  },
  {
   "cell_type": "code",
   "execution_count": null,
   "id": "e1db2bec",
   "metadata": {},
   "outputs": [],
   "source": [
    "data"
   ]
  },
  {
   "cell_type": "code",
   "execution_count": null,
   "id": "fc0e969b",
   "metadata": {},
   "outputs": [],
   "source": [
    "data.plot(figsize=(12,8),title=\"AAPLE - SMA{} | SMA{}\".format(sma_s,sma_l), fontsize=12)"
   ]
  },
  {
   "cell_type": "code",
   "execution_count": null,
   "id": "4cc0c316",
   "metadata": {},
   "outputs": [],
   "source": [
    "data.loc[\"2016\"].plot(figsize=(12,8),title=\"AAPLE - SMA{} | SMA{}\".format(sma_s,sma_l), fontsize=12)"
   ]
  },
  {
   "cell_type": "code",
   "execution_count": null,
   "id": "46bb7235",
   "metadata": {},
   "outputs": [],
   "source": [
    "data.dropna(inplace=True)"
   ]
  },
  {
   "cell_type": "code",
   "execution_count": null,
   "id": "a8f21d27",
   "metadata": {},
   "outputs": [],
   "source": [
    "data"
   ]
  },
  {
   "cell_type": "code",
   "execution_count": null,
   "id": "1acf6c2b",
   "metadata": {},
   "outputs": [],
   "source": [
    "data[\"position\"]=np.where(data[\"sma_s\"]>data[\"sma_l\"],1,-1)"
   ]
  },
  {
   "cell_type": "code",
   "execution_count": null,
   "id": "4f79cad2",
   "metadata": {},
   "outputs": [],
   "source": [
    "data"
   ]
  },
  {
   "cell_type": "code",
   "execution_count": null,
   "id": "fa41f5a5",
   "metadata": {},
   "outputs": [],
   "source": [
    "data.loc[\"2016\",[\"sma_s\",\"sma_l\",\"position\"]].plot(figsize=(12,8),title=\"AAPLE - SMA{} | SMA{}\".format(sma_s,sma_l), fontsize=12,secondary_y=\"position\")"
   ]
  },
  {
   "cell_type": "code",
   "execution_count": null,
   "id": "1ae34a44",
   "metadata": {},
   "outputs": [],
   "source": [
    "data[\"returnsb&h\"]=np.log(data.Close.div(data.Close.shift(1)))"
   ]
  },
  {
   "cell_type": "code",
   "execution_count": null,
   "id": "49d12a39",
   "metadata": {},
   "outputs": [],
   "source": [
    "data[\"strategy\"]=data[\"returnsb&h\"]*data.position.shift(1)"
   ]
  },
  {
   "cell_type": "code",
   "execution_count": null,
   "id": "77c781c7",
   "metadata": {},
   "outputs": [],
   "source": [
    "data"
   ]
  },
  {
   "cell_type": "code",
   "execution_count": null,
   "id": "66cf45e4",
   "metadata": {},
   "outputs": [],
   "source": [
    "data.dropna(inplace=True)"
   ]
  },
  {
   "cell_type": "code",
   "execution_count": null,
   "id": "694669d2",
   "metadata": {},
   "outputs": [],
   "source": [
    "data[[\"returnsb&h\",\"strategy\"]].sum()"
   ]
  },
  {
   "cell_type": "code",
   "execution_count": null,
   "id": "f7f19b47",
   "metadata": {},
   "outputs": [],
   "source": [
    "data[[\"returnsb&h\",\"strategy\"]].sum().apply(np.exp) # what 1$ will be "
   ]
  },
  {
   "cell_type": "code",
   "execution_count": null,
   "id": "9086f1c1",
   "metadata": {},
   "outputs": [],
   "source": [
    "data[[\"returnsb&h\",\"strategy\"]].std()*np.sqrt(252) #annyal std"
   ]
  },
  {
   "cell_type": "code",
   "execution_count": null,
   "id": "801064b8",
   "metadata": {},
   "outputs": [],
   "source": [
    "data.Close.plot(figsize=(12,8))"
   ]
  },
  {
   "cell_type": "markdown",
   "id": "b387ac68",
   "metadata": {},
   "source": [
    "## Strategy adjusted with long bias"
   ]
  },
  {
   "cell_type": "code",
   "execution_count": null,
   "id": "f53db129",
   "metadata": {},
   "outputs": [],
   "source": [
    "data[\"position2\"]=np.where(data[\"sma_s\"]>data[\"sma_l\"],1,0)"
   ]
  },
  {
   "cell_type": "code",
   "execution_count": null,
   "id": "75a3fa08",
   "metadata": {},
   "outputs": [],
   "source": [
    "data[\"strategy2\"]=data[\"returnsb&h\"]*data.position2.shift(1)"
   ]
  },
  {
   "cell_type": "code",
   "execution_count": null,
   "id": "34c7dd89",
   "metadata": {},
   "outputs": [],
   "source": [
    "data.dropna(inplace=True)"
   ]
  },
  {
   "cell_type": "code",
   "execution_count": null,
   "id": "6cbfc7f2",
   "metadata": {},
   "outputs": [],
   "source": [
    "data[[\"returnsb&h\",\"strategy2\"]].sum()"
   ]
  },
  {
   "cell_type": "code",
   "execution_count": null,
   "id": "36ec6148",
   "metadata": {},
   "outputs": [],
   "source": [
    "data[[\"returnsb&h\",\"strategy2\"]].sum().apply(np.exp) # what 1$ will be "
   ]
  },
  {
   "cell_type": "code",
   "execution_count": null,
   "id": "40e748a4",
   "metadata": {},
   "outputs": [],
   "source": [
    "data[[\"returnsb&h\",\"strategy2\"]].std()*np.sqrt(252) "
   ]
  },
  {
   "cell_type": "code",
   "execution_count": null,
   "id": "be1ec4d3",
   "metadata": {},
   "outputs": [],
   "source": [
    "## Strategy 2 is better than strategy 1\n",
    "data[[\"strategy\",\"strategy2\"]].std()*np.sqrt(252) "
   ]
  },
  {
   "cell_type": "markdown",
   "id": "f6591c9a",
   "metadata": {},
   "source": [
    "## Find the best SMA for the top 5 stocks\n",
    "## Create a bias strategy\n",
    "## Compare drawdowns\n",
    "## Pick the best 3 stocks for your portfolio"
   ]
  },
  {
   "cell_type": "markdown",
   "id": "9efdf927",
   "metadata": {},
   "source": [
    "# Creating our first function"
   ]
  },
  {
   "cell_type": "code",
   "execution_count": null,
   "id": "71c01e5d",
   "metadata": {},
   "outputs": [],
   "source": [
    "def test_strategy(stock,start,end,SMA):\n",
    "    df=yf.download(stock,start=start,end=end)\n",
    "    data=df.Close.to_frame()\n",
    "    data[\"returns\"]=np.log(data.Close.div(data.Close.shift(1)))\n",
    "    data[\"SMA_S\"]=data.Close.rolling(int(SMA[0])).mean()\n",
    "    data[\"SMA_L\"]=data.Close.rolling(int(SMA[1])).mean()\n",
    "    data.dropna(inplace=True)\n",
    "    \n",
    "    data[\"position\"]=np.where(data[\"SMA_S\"]>data[\"SMA_L\"],1,-1)\n",
    "    data[\"strategy\"]=data[\"returns\"]*data.position.shift(1)\n",
    "    data.dropna(inplace=True)\n",
    "    ret=np.exp(data[\"strategy\"].sum())\n",
    "    std= data[\"strategy\"].std()*np.sqrt(252)\n",
    "    \n",
    "    return ret,std"
   ]
  },
  {
   "cell_type": "code",
   "execution_count": null,
   "id": "8f6e2e58",
   "metadata": {},
   "outputs": [],
   "source": [
    "test_strategy(\"SPY\",\"2000-01-01\",\"2020-01-01\",(50,200))"
   ]
  },
  {
   "cell_type": "markdown",
   "id": "f2010b8a",
   "metadata": {},
   "source": [
    "## Creating our first class"
   ]
  },
  {
   "cell_type": "code",
   "execution_count": null,
   "id": "56de44c7",
   "metadata": {},
   "outputs": [],
   "source": [
    "class SMABacktester():\n",
    "    def __init__(self,symbol,SMA_S, SMA_L,start,end):\n",
    "        self.symbol=symbol\n",
    "        self.SMA_S=SMA_S\n",
    "        self.SMA_L=SMA_L\n",
    "        self.start=start\n",
    "        self.end=end\n",
    "        self.results=None\n",
    "        self.get_data()\n",
    "        \n",
    "    def get_data(self):\n",
    "        df=yf.download(self.symbol,start=self.start,end=self.end)\n",
    "        data=df.Close.to_frame()\n",
    "        data[\"returns\"]=np.log(data.Close.div(data.Close.shift(1)))\n",
    "        data[\"SMA_S\"]=data.Close.rolling(self.SMA_S).mean()\n",
    "        data[\"SMA_L\"]=data.Close.rolling(self.SMA_L).mean()\n",
    "        data.dropna(inplace=True)\n",
    "        self.data2=data\n",
    "        \n",
    "        return data\n",
    "    \n",
    "    def test_results(self):\n",
    "        data=self.data2.copy().dropna()\n",
    "        data[\"position\"]=np.where(data[\"SMA_S\"]>data[\"SMA_L\"],1,-1)\n",
    "        data[\"strategy\"]=data[\"returns\"]*data.position.shift(1)\n",
    "        data.dropna(inplace=True)\n",
    "        data[\"returnsbh\"]=data[\"returns\"].cumsum().apply(np.exp)\n",
    "        data[\"returnsstrategy\"]=data[\"strategy\"].cumsum().apply(np.exp)\n",
    "        perf=data[\"returnsstrategy\"].iloc[-1]\n",
    "        outperf=perf-data[\"returnsbh\"].iloc[-1]\n",
    "        self.results=data\n",
    "        \n",
    "        ret=np.exp(data[\"strategy\"].sum())\n",
    "        std= data[\"strategy\"].std()*np.sqrt(252)\n",
    "    \n",
    "        #return ret,std\n",
    "        return round(perf,6), round(outperf,6)\n",
    "    \n",
    "    def plot_results(self):\n",
    "        if self.results is None:\n",
    "            print(\"Run the test please\")\n",
    "        else:\n",
    "            title=\"{}| SMA_S={} | SMA_L{}\".format(self.symbol,self.SMA_S, self.SMA_L)\n",
    "            self.results[[\"returnsbh\",\"returnsstrategy\"]].plot(title=title, figsize=(12,8))\n",
    "        \n",
    "    \n",
    "        "
   ]
  },
  {
   "cell_type": "code",
   "execution_count": null,
   "id": "0844e3ee",
   "metadata": {},
   "outputs": [],
   "source": [
    "tester= SMABacktester(\"SPY\",50,100, \"2000-01-01\",\"2020-01-01\")"
   ]
  },
  {
   "cell_type": "code",
   "execution_count": null,
   "id": "9209781b",
   "metadata": {},
   "outputs": [],
   "source": [
    "tester.test_results()"
   ]
  },
  {
   "cell_type": "code",
   "execution_count": null,
   "id": "6bb465d3",
   "metadata": {},
   "outputs": [],
   "source": [
    "tester.plot_results()"
   ]
  },
  {
   "cell_type": "markdown",
   "id": "ce82a4b8",
   "metadata": {},
   "source": [
    "## 1. Watch Stan Weinstein Stratgey in our QuantProgram Youtube channel\n",
    "## 2. Create the stratgey in python\n",
    "## 3. Backtest it\n",
    "## 4. Save it as a class in a separate python file."
   ]
  },
  {
   "cell_type": "code",
   "execution_count": null,
   "id": "a25fe822-e84b-44ca-a500-a8f521fe12ab",
   "metadata": {},
   "outputs": [],
   "source": []
  },
  {
   "cell_type": "code",
   "execution_count": null,
   "id": "f59fe1fe-f145-47ea-85fb-3e9ebdaa7275",
   "metadata": {},
   "outputs": [],
   "source": []
  }
 ],
 "metadata": {
  "kernelspec": {
   "display_name": "Python 3 (ipykernel)",
   "language": "python",
   "name": "python3"
  },
  "language_info": {
   "codemirror_mode": {
    "name": "ipython",
    "version": 3
   },
   "file_extension": ".py",
   "mimetype": "text/x-python",
   "name": "python",
   "nbconvert_exporter": "python",
   "pygments_lexer": "ipython3",
   "version": "3.10.5"
  }
 },
 "nbformat": 4,
 "nbformat_minor": 5
}
