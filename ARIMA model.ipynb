{
 "cells": [
  {
   "cell_type": "markdown",
   "id": "0f73438e-5b22-4519-8ac5-689d41d2212b",
   "metadata": {},
   "source": [
    "<h1> Fully Automated AI Based Trading System with Python (ARIMA model)</h1>"
   ]
  },
  {
   "cell_type": "code",
   "execution_count": 2,
   "id": "f00dd933-79bf-4006-a025-13b18f510f0c",
   "metadata": {},
   "outputs": [],
   "source": [
    "#import necessary libraries\n",
    "import yfinance as yf\n",
    "import pandas as pd\n",
    "import numpy as np\n",
    "import datetime as dt\n",
    "import matplotlib.pyplot as plt"
   ]
  },
  {
   "cell_type": "code",
   "execution_count": 3,
   "id": "ef14da49-eb05-400f-ba21-446cad32e7e5",
   "metadata": {},
   "outputs": [
    {
     "data": {
      "text/html": [
       "<div>\n",
       "<style scoped>\n",
       "    .dataframe tbody tr th:only-of-type {\n",
       "        vertical-align: middle;\n",
       "    }\n",
       "\n",
       "    .dataframe tbody tr th {\n",
       "        vertical-align: top;\n",
       "    }\n",
       "\n",
       "    .dataframe thead th {\n",
       "        text-align: right;\n",
       "    }\n",
       "</style>\n",
       "<table border=\"1\" class=\"dataframe\">\n",
       "  <thead>\n",
       "    <tr style=\"text-align: right;\">\n",
       "      <th></th>\n",
       "      <th>Open</th>\n",
       "      <th>High</th>\n",
       "      <th>Low</th>\n",
       "      <th>Close</th>\n",
       "      <th>Volume</th>\n",
       "      <th>Dividends</th>\n",
       "      <th>Stock Splits</th>\n",
       "    </tr>\n",
       "    <tr>\n",
       "      <th>Datetime</th>\n",
       "      <th></th>\n",
       "      <th></th>\n",
       "      <th></th>\n",
       "      <th></th>\n",
       "      <th></th>\n",
       "      <th></th>\n",
       "      <th></th>\n",
       "    </tr>\n",
       "  </thead>\n",
       "  <tbody>\n",
       "    <tr>\n",
       "      <th>2022-07-27 09:30:00-04:00</th>\n",
       "      <td>109.599998</td>\n",
       "      <td>110.767700</td>\n",
       "      <td>109.410103</td>\n",
       "      <td>110.330002</td>\n",
       "      <td>1677027</td>\n",
       "      <td>0</td>\n",
       "      <td>0</td>\n",
       "    </tr>\n",
       "    <tr>\n",
       "      <th>2022-07-27 09:31:00-04:00</th>\n",
       "      <td>109.653900</td>\n",
       "      <td>109.653900</td>\n",
       "      <td>109.269997</td>\n",
       "      <td>109.269997</td>\n",
       "      <td>326483</td>\n",
       "      <td>0</td>\n",
       "      <td>0</td>\n",
       "    </tr>\n",
       "    <tr>\n",
       "      <th>2022-07-27 09:32:00-04:00</th>\n",
       "      <td>109.320000</td>\n",
       "      <td>109.430000</td>\n",
       "      <td>108.419998</td>\n",
       "      <td>108.658798</td>\n",
       "      <td>331945</td>\n",
       "      <td>0</td>\n",
       "      <td>0</td>\n",
       "    </tr>\n",
       "    <tr>\n",
       "      <th>2022-07-27 09:33:00-04:00</th>\n",
       "      <td>108.669998</td>\n",
       "      <td>108.750000</td>\n",
       "      <td>108.669998</td>\n",
       "      <td>108.709999</td>\n",
       "      <td>305454</td>\n",
       "      <td>0</td>\n",
       "      <td>0</td>\n",
       "    </tr>\n",
       "    <tr>\n",
       "      <th>2022-07-27 09:34:00-04:00</th>\n",
       "      <td>109.000000</td>\n",
       "      <td>109.029999</td>\n",
       "      <td>108.830002</td>\n",
       "      <td>108.940002</td>\n",
       "      <td>237617</td>\n",
       "      <td>0</td>\n",
       "      <td>0</td>\n",
       "    </tr>\n",
       "  </tbody>\n",
       "</table>\n",
       "</div>"
      ],
      "text/plain": [
       "                                 Open        High         Low       Close  \\\n",
       "Datetime                                                                    \n",
       "2022-07-27 09:30:00-04:00  109.599998  110.767700  109.410103  110.330002   \n",
       "2022-07-27 09:31:00-04:00  109.653900  109.653900  109.269997  109.269997   \n",
       "2022-07-27 09:32:00-04:00  109.320000  109.430000  108.419998  108.658798   \n",
       "2022-07-27 09:33:00-04:00  108.669998  108.750000  108.669998  108.709999   \n",
       "2022-07-27 09:34:00-04:00  109.000000  109.029999  108.830002  108.940002   \n",
       "\n",
       "                            Volume  Dividends  Stock Splits  \n",
       "Datetime                                                     \n",
       "2022-07-27 09:30:00-04:00  1677027          0             0  \n",
       "2022-07-27 09:31:00-04:00   326483          0             0  \n",
       "2022-07-27 09:32:00-04:00   331945          0             0  \n",
       "2022-07-27 09:33:00-04:00   305454          0             0  \n",
       "2022-07-27 09:34:00-04:00   237617          0             0  "
      ]
     },
     "execution_count": 3,
     "metadata": {},
     "output_type": "execute_result"
    }
   ],
   "source": [
    "#access the stock \n",
    "google = yf.Ticker(\"GOOG\")\n",
    "\n",
    "df = google.history(period='1d', interval='1m')\n",
    "df.head()"
   ]
  },
  {
   "cell_type": "code",
   "execution_count": 4,
   "id": "ef1974b8-1d1f-4f79-9dd1-85ad70c6151c",
   "metadata": {},
   "outputs": [
    {
     "data": {
      "text/html": [
       "<div>\n",
       "<style scoped>\n",
       "    .dataframe tbody tr th:only-of-type {\n",
       "        vertical-align: middle;\n",
       "    }\n",
       "\n",
       "    .dataframe tbody tr th {\n",
       "        vertical-align: top;\n",
       "    }\n",
       "\n",
       "    .dataframe thead th {\n",
       "        text-align: right;\n",
       "    }\n",
       "</style>\n",
       "<table border=\"1\" class=\"dataframe\">\n",
       "  <thead>\n",
       "    <tr style=\"text-align: right;\">\n",
       "      <th></th>\n",
       "      <th>Low</th>\n",
       "    </tr>\n",
       "    <tr>\n",
       "      <th>Datetime</th>\n",
       "      <th></th>\n",
       "    </tr>\n",
       "  </thead>\n",
       "  <tbody>\n",
       "    <tr>\n",
       "      <th>2022-07-27 09:30:00-04:00</th>\n",
       "      <td>109.410103</td>\n",
       "    </tr>\n",
       "    <tr>\n",
       "      <th>2022-07-27 09:31:00-04:00</th>\n",
       "      <td>109.269997</td>\n",
       "    </tr>\n",
       "    <tr>\n",
       "      <th>2022-07-27 09:32:00-04:00</th>\n",
       "      <td>108.419998</td>\n",
       "    </tr>\n",
       "    <tr>\n",
       "      <th>2022-07-27 09:33:00-04:00</th>\n",
       "      <td>108.669998</td>\n",
       "    </tr>\n",
       "    <tr>\n",
       "      <th>2022-07-27 09:34:00-04:00</th>\n",
       "      <td>108.830002</td>\n",
       "    </tr>\n",
       "  </tbody>\n",
       "</table>\n",
       "</div>"
      ],
      "text/plain": [
       "                                  Low\n",
       "Datetime                             \n",
       "2022-07-27 09:30:00-04:00  109.410103\n",
       "2022-07-27 09:31:00-04:00  109.269997\n",
       "2022-07-27 09:32:00-04:00  108.419998\n",
       "2022-07-27 09:33:00-04:00  108.669998\n",
       "2022-07-27 09:34:00-04:00  108.830002"
      ]
     },
     "execution_count": 4,
     "metadata": {},
     "output_type": "execute_result"
    }
   ],
   "source": [
    "df = df [['Low']]\n",
    "df.head()"
   ]
  },
  {
   "cell_type": "code",
   "execution_count": 5,
   "id": "390bca8b-f755-4ae7-898d-560b6e809619",
   "metadata": {},
   "outputs": [
    {
     "data": {
      "text/html": [
       "<div>\n",
       "<style scoped>\n",
       "    .dataframe tbody tr th:only-of-type {\n",
       "        vertical-align: middle;\n",
       "    }\n",
       "\n",
       "    .dataframe tbody tr th {\n",
       "        vertical-align: top;\n",
       "    }\n",
       "\n",
       "    .dataframe thead th {\n",
       "        text-align: right;\n",
       "    }\n",
       "</style>\n",
       "<table border=\"1\" class=\"dataframe\">\n",
       "  <thead>\n",
       "    <tr style=\"text-align: right;\">\n",
       "      <th></th>\n",
       "      <th>Low</th>\n",
       "    </tr>\n",
       "    <tr>\n",
       "      <th>date</th>\n",
       "      <th></th>\n",
       "    </tr>\n",
       "  </thead>\n",
       "  <tbody>\n",
       "    <tr>\n",
       "      <th>09:30:00</th>\n",
       "      <td>109.410103</td>\n",
       "    </tr>\n",
       "    <tr>\n",
       "      <th>09:31:00</th>\n",
       "      <td>109.269997</td>\n",
       "    </tr>\n",
       "    <tr>\n",
       "      <th>09:32:00</th>\n",
       "      <td>108.419998</td>\n",
       "    </tr>\n",
       "    <tr>\n",
       "      <th>09:33:00</th>\n",
       "      <td>108.669998</td>\n",
       "    </tr>\n",
       "    <tr>\n",
       "      <th>09:34:00</th>\n",
       "      <td>108.830002</td>\n",
       "    </tr>\n",
       "  </tbody>\n",
       "</table>\n",
       "</div>"
      ],
      "text/plain": [
       "                 Low\n",
       "date                \n",
       "09:30:00  109.410103\n",
       "09:31:00  109.269997\n",
       "09:32:00  108.419998\n",
       "09:33:00  108.669998\n",
       "09:34:00  108.830002"
      ]
     },
     "execution_count": 5,
     "metadata": {},
     "output_type": "execute_result"
    }
   ],
   "source": [
    "df['date']=pd.to_datetime(df.index).time\n",
    "df.set_index('date', inplace=True)\n",
    "df.head()"
   ]
  },
  {
   "cell_type": "code",
   "execution_count": 6,
   "id": "84dcbcb7-eefd-4899-8af0-0bf19e204ea2",
   "metadata": {},
   "outputs": [],
   "source": [
    "#split the dataframe into train and test, so we can use the test set to validate the results of the dummy model -- I'm going to keep the last 10% of the data as the test set\n",
    "X = df.index.values\n",
    "y = df['Low'].values\n",
    "\n",
    "# The split point is the 10% of the datetime length\n",
    "offset = int(.10*len(df))\n",
    "\n",
    "X_train = X[:-offset]\n",
    "y_train = y[:-offset]\n",
    "X_test = X[-offset:]\n",
    "y_test = y[-offset:]"
   ]
  },
  {
   "cell_type": "code",
   "execution_count": 7,
   "id": "eaea4e77-f0ec-4864-8447-52e383850e98",
   "metadata": {},
   "outputs": [
    {
     "data": {
      "image/png": "[encoded data removed]",
      "text/plain": [
       "<Figure size 432x288 with 1 Axes>"
      ]
     },
     "metadata": {
      "needs_background": "light"
     },
     "output_type": "display_data"
    }
   ],
   "source": [
    "#plot the graph\n",
    "plt.plot(range(0,len(y_train)),y_train, label='Train')\n",
    "plt.plot(range(len(y_train),len(y)),y_test,label='Test')\n",
    "plt.legend()\n",
    "plt.show()"
   ]
  },
  {
   "cell_type": "code",
   "execution_count": 9,
   "id": "11640c95-ba8b-4dc3-9aca-996e307c1d1d",
   "metadata": {},
   "outputs": [
    {
     "name": "stderr",
     "output_type": "stream",
     "text": [
      "C:\\Users\\19178\\AppData\\Local\\Programs\\Python\\Python310\\lib\\site-packages\\statsmodels\\base\\model.py:604: ConvergenceWarning: Maximum Likelihood optimization failed to converge. Check mle_retvals\n",
      "  warnings.warn(\"Maximum Likelihood optimization failed to \"\n"
     ]
    }
   ],
   "source": [
    "#Using ARIMA Hyperparameters with Python\n",
    "from statsmodels.tsa.arima.model import ARIMA\n",
    "\n",
    "model = ARIMA(y_train, order=(5,0,1)).fit()\n",
    "forecast = model.forecast(steps=1)[0]"
   ]
  },
  {
   "cell_type": "code",
   "execution_count": 25,
   "id": "c5600b32-ed61-4cec-a321-2d8a75238611",
   "metadata": {},
   "outputs": [
    {
     "data": {
      "text/plain": [
       "'left'"
      ]
     },
     "execution_count": 25,
     "metadata": {},
     "output_type": "execute_result"
    }
   ],
   "source": [
    "tuple = ('left',44.44,'temp',99.99)\n",
    "tuple[0]"
   ]
  },
  {
   "cell_type": "code",
   "execution_count": 22,
   "id": "9384f6a3-0bf4-4334-bcf5-7cee0baf0de2",
   "metadata": {},
   "outputs": [
    {
     "name": "stdout",
     "output_type": "stream",
     "text": [
      "True\n"
     ]
    }
   ],
   "source": [
    "print(3>=3)"
   ]
  },
  {
   "cell_type": "code",
   "execution_count": null,
   "id": "15f59be6-5729-4a12-a5d6-0b28d167ab6a",
   "metadata": {},
   "outputs": [],
   "source": []
  }
 ],
 "metadata": {
  "kernelspec": {
   "display_name": "Python 3 (ipykernel)",
   "language": "python",
   "name": "python3"
  },
  "language_info": {
   "codemirror_mode": {
    "name": "ipython",
    "version": 3
   },
   "file_extension": ".py",
   "mimetype": "text/x-python",
   "name": "python",
   "nbconvert_exporter": "python",
   "pygments_lexer": "ipython3",
   "version": "3.10.5"
  }
 },
 "nbformat": 4,
 "nbformat_minor": 5
}
