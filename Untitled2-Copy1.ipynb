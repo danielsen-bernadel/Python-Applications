{
 "cells": [
  {
   "cell_type": "code",
   "execution_count": 5,
   "id": "e14fe703-5faa-4ce7-bb32-29d99795f1fb",
   "metadata": {},
   "outputs": [
    {
     "data": {
      "text/plain": [
       "'time_frame=[\"M1\", \"M2\", \"M3\", \"M4\", \"M5\", \"M6\", \"M10\", \"M12\", \\n\"M15\", \"M20\", \"M30\",\"H1\", \"H2\", \"H3\", \"H4\", \"H6\", \"H8\", \"H12\", \\n\"D1\", \"W1\", \"MN1\"]'"
      ]
     },
     "execution_count": 5,
     "metadata": {},
     "output_type": "execute_result"
    }
   ],
   "source": [
    "from datetime import datetime\n",
    "import MetaTrader5 as mt5\n",
    "import pandas as pd\n",
    "import pytz\n",
    "\n",
    "\n",
    "pd.set_option('display.max_columns', 500) # number of columns to be displayed\n",
    "pd.set_option('display.width', 1500)      # max table width to display\n",
    " \n",
    "\n",
    "if not mt5.initialize():\n",
    "    print(\"initialize() failed, error code =\",mt5.last_error())\n",
    "    quit()\n",
    "\n",
    "currency_pair =[\"EURUSD\",\"EURGBP\",\"EURJPY\",\"EURAUD\",\"EURNZD\",\n",
    "\"EURCHF\",\"EURCAD\",\"GBPUSD\", \"GBPJPY\",\"GBPAUD\",\"GBPNZD\",\"GBPCAD\",\n",
    "\"GBPCHF\",\"USDCAD\", \"USDJPY\",\"CHFJPY\",\"CADJPY\",\"NZDJPY\",\"AUDJPY\",\n",
    "\"AUDNZD\",\"AUDCAD\", \"NZDUSD\",\"NZDCAD\",\"NZDCHF\",\"AUDCHF\",\"CADCHF\",\n",
    "\"AUDUSD\",\"USDCHF\"]\n",
    "\n",
    "time_frame=[mt5.TIMEFRAME_M1, mt5.TIMEFRAME_M2,mt5.TIMEFRAME_M3,\n",
    "mt5.TIMEFRAME_M4, mt5.TIMEFRAME_M5, mt5.TIMEFRAME_M6,mt5.TIMEFRAME_M10,\n",
    "mt5.TIMEFRAME_M12,mt5.TIMEFRAME_M15, mt5.TIMEFRAME_M20,mt5.TIMEFRAME_M30,\n",
    "mt5.TIMEFRAME_H1,mt5.TIMEFRAME_H2, mt5.TIMEFRAME_H3,mt5.TIMEFRAME_H4,\n",
    "mt5.TIMEFRAME_H6,mt5.TIMEFRAME_H8, mt5.TIMEFRAME_H12,mt5.TIMEFRAME_D1,\n",
    "mt5.TIMEFRAME_W1, mt5.TIMEFRAME_MN1]\n",
    "\n",
    "'''time_frame=[\"M1\", \"M2\", \"M3\", \"M4\", \"M5\", \"M6\", \"M10\", \"M12\", \n",
    "\"M15\", \"M20\", \"M30\",\"H1\", \"H2\", \"H3\", \"H4\", \"H6\", \"H8\", \"H12\", \n",
    "\"D1\", \"W1\", \"MN1\"]'''"
   ]
  },
  {
   "cell_type": "code",
   "execution_count": 6,
   "id": "21b8b658-e378-43c7-856d-5aa050042dca",
   "metadata": {},
   "outputs": [],
   "source": [
    "# set time zone to UTC\n",
    "timezone = pytz.timezone(\"Etc/UTC\")\n",
    "now = datetime.now()\n",
    "# create 'datetime' object in UTC time zone to avoid the implementation of a local time zone offset\n",
    "utc_from = datetime(2020, 1, 10, tzinfo=timezone)"
   ]
  },
  {
   "cell_type": "code",
   "execution_count": null,
   "id": "bbe4cb2c-aa34-4fe6-931e-c79c9e72cdf7",
   "metadata": {},
   "outputs": [],
   "source": [
    "import itertools\n",
    "# get 10 EURUSD H4 bars starting from 01.10.2020 in UTC time zone\n",
    "for currency_pair, time_frame in itertools.product(currency_pair, time_frame):\n",
    "    rates = mt5.copy_rates_from(currency_pair, time_frame, utc_from, 50)"
   ]
  },
  {
   "cell_type": "code",
   "execution_count": null,
   "id": "918fa956-072f-464a-840f-58818a05453a",
   "metadata": {},
   "outputs": [],
   "source": [
    "# shut down connection to the MetaTrader 5 terminal\n",
    "# mt5.shutdown()\n",
    "# display each element of obtained data in a new line\n",
    "print(\"Display obtained data 'as is'\")\n",
    "for rate in rates:\n",
    "    print(rate)\n",
    " \n",
    "# create DataFrame out of the obtained data\n",
    "rates_frame = pd.DataFrame(rates)\n",
    "# convert time in seconds into the datetime format\n",
    "rates_frame['time']=pd.to_datetime(rates_frame['time'], unit='s')\n",
    "                           \n",
    "# display data\n",
    "print(\"\\nDisplay dataframe with data\")\n",
    "print(rates_frame)  "
   ]
  },
  {
   "cell_type": "code",
   "execution_count": null,
   "id": "bd0f7f7d-b71f-4509-a941-d330ac7bd356",
   "metadata": {},
   "outputs": [],
   "source": []
  },
  {
   "cell_type": "code",
   "execution_count": null,
   "id": "e14709cf-e402-434e-9b6d-ae1365f1d213",
   "metadata": {},
   "outputs": [],
   "source": []
  }
 ],
 "metadata": {
  "kernelspec": {
   "display_name": "Python 3 (ipykernel)",
   "language": "python",
   "name": "python3"
  },
  "language_info": {
   "codemirror_mode": {
    "name": "ipython",
    "version": 3
   },
   "file_extension": ".py",
   "mimetype": "text/x-python",
   "name": "python",
   "nbconvert_exporter": "python",
   "pygments_lexer": "ipython3",
   "version": "3.10.5"
  }
 },
 "nbformat": 4,
 "nbformat_minor": 5
}
