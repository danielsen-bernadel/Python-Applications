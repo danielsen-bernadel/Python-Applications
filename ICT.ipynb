{
 "cells": [
  {
   "cell_type": "markdown",
   "id": "9e3318ae",
   "metadata": {},
   "source": [
    "<h1> Inner Ciricle Trader Algorithimic trading bot </h1>\n",
    "\n",
    "<p> Goal: To build out a framework that can automatically trade in the market without the need for me to be hands-off or looking in the market too often </p>"
   ]
  },
  {
   "cell_type": "code",
   "execution_count": 2,
   "id": "dd526c22",
   "metadata": {},
   "outputs": [],
   "source": [
    "# First Load required libraries\n",
    "import numpy as np\n",
    "import pandas as pd\n",
    "import yfinance as yf\n",
    "import pandas_datareader as pdr\n",
    "import datetime as dt"
   ]
  },
  {
   "cell_type": "code",
   "execution_count": null,
   "id": "18250e1c",
   "metadata": {},
   "outputs": [],
   "source": []
  }
 ],
 "metadata": {
  "kernelspec": {
   "display_name": "Python 3 (ipykernel)",
   "language": "python",
   "name": "python3"
  },
  "language_info": {
   "codemirror_mode": {
    "name": "ipython",
    "version": 3
   },
   "file_extension": ".py",
   "mimetype": "text/x-python",
   "name": "python",
   "nbconvert_exporter": "python",
   "pygments_lexer": "ipython3",
   "version": "3.10.5"
  }
 },
 "nbformat": 4,
 "nbformat_minor": 5
}
