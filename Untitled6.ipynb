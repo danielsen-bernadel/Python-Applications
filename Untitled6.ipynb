{
 "cells": [
  {
   "cell_type": "code",
   "execution_count": 4,
   "id": "4ddd3535-12e2-48dd-be22-62d18128143c",
   "metadata": {},
   "outputs": [],
   "source": [
    "#Import Necessary Libaries\n",
    "import pandas as pd\n",
    "import matplotlib.pyplot as plt\n",
    "import seaborn as sns\n",
    "import numpy as np\n",
    "from yahoo_fin.stock_info import get_data\n",
    "import mt5"
   ]
  },
  {
   "cell_type": "code",
   "execution_count": 5,
   "id": "8d7804d2-1994-4e80-bbd9-4ea28cfff5ed",
   "metadata": {},
   "outputs": [],
   "source": [
    "#Read data // Rename and reformat pricing to 2 decimal places\n",
    "def read_data(tick_symbol, start_date, end_date, period):\n",
    "    data = get_data(tick_symbol, start_date=start_date, end_date=end_date, period=period, index_as_date = False)\n",
    "    data = data.rename(columns={'date':'Date', 'high':'High', 'low':'Low', 'close':'Close', 'adjclose':'Adj Close', 'volume':'Volume'})\n",
    "    lis = ['High', 'Low', 'Close', 'Adj Close']\n",
    "    for i in lis:\n",
    "        data[i] = data[i].round(2)\n",
    "    return data"
   ]
  },
  {
   "cell_type": "code",
   "execution_count": null,
   "id": "4f162004-3786-4612-9f33-06ca29cda534",
   "metadata": {},
   "outputs": [],
   "source": []
  }
 ],
 "metadata": {
  "kernelspec": {
   "display_name": "Python 3 (ipykernel)",
   "language": "python",
   "name": "python3"
  },
  "language_info": {
   "codemirror_mode": {
    "name": "ipython",
    "version": 3
   },
   "file_extension": ".py",
   "mimetype": "text/x-python",
   "name": "python",
   "nbconvert_exporter": "python",
   "pygments_lexer": "ipython3",
   "version": "3.10.5"
  }
 },
 "nbformat": 4,
 "nbformat_minor": 5
}
