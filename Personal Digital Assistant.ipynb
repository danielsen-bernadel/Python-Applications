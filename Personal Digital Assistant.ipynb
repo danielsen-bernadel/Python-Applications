{
 "cells": [
  {
   "cell_type": "code",
   "execution_count": null,
   "id": "ef42badd-24e9-4551-9951-b9f47e4fe140",
   "metadata": {},
   "outputs": [],
   "source": [
    "#Import necessary libraries\n",
    "import speech_recognition as sr\n",
    "import pyttsx3\n",
    "import datetime\n",
    "import wikipedia\n",
    "import webbrowser\n",
    "import pyaudio\n",
    "import os\n",
    "import time\n",
    "import subprocess\n",
    "from ecapture import ecapture as ec\n",
    "import wolframalpha\n",
    "import json\n",
    "import requests"
   ]
  },
  {
   "cell_type": "code",
   "execution_count": null,
   "id": "f7d07d14-bafd-49c0-b5d7-33520c6d67d6",
   "metadata": {},
   "outputs": [],
   "source": [
    "#Setting up the speech engine\n",
    "engine = pyttsx3.init('sapi5')\n",
    "voices = engine.getProperty('voices')\n",
    "engine.setProperty('voice','voices[0].id')"
   ]
  },
  {
   "cell_type": "code",
   "execution_count": null,
   "id": "0c57794e-f69b-4605-9c5f-f5db12544219",
   "metadata": {},
   "outputs": [],
   "source": [
    "# Define speak function \n",
    "# runAndWait: This function Blocks while processing all currently queued commands. \n",
    "# It Invokes callbacks for engine notifications appropriately and returns back when all commands queued before this call are emptied from the queue.\n",
    "def speak(text):\n",
    "        engine.say(text)\n",
    "        engine.runAndWait()"
   ]
  },
  {
   "cell_type": "code",
   "execution_count": null,
   "id": "54ac922d-50ac-48d7-bc43-6c5241863aa0",
   "metadata": {},
   "outputs": [],
   "source": [
    "# Define function to greet the user or wishMe function\n",
    "def wishMe():\n",
    "    hour = datetime.datetime.now().hour\n",
    "    if hour>=0 and hour<12:\n",
    "        speak(\"Morning\")\n",
    "        print(\"Morning\")\n",
    "    elif hour>=12 and hour<18:\n",
    "        speak(\"Afternoon\")\n",
    "        print(\"Afternoon\")\n",
    "    else: \n",
    "        speak(\"Evening\")\n",
    "        print(\"Evening\")"
   ]
  },
  {
   "cell_type": "code",
   "execution_count": null,
   "id": "071d8fb0-ee18-4ae9-8efd-2e124b1eb6ea",
   "metadata": {},
   "outputs": [],
   "source": [
    "# Define a function takecommand for the AI assistant to understand\n",
    "# and to accept human language.\n",
    "def takeCommand():\n",
    "    #Record the Audio\n",
    "    r=sr.Recognizer() # Creating a recognizer object\n",
    "    \n",
    "    # Open the microphone and start recording\n",
    "    with sr.Microphone() as source:\n",
    "        print(\"Listening...\")\n",
    "        audio=r.listen(source)\n",
    "\n",
    "        try:\n",
    "            statement=r.recognize_google(audio,language='en-in')\n",
    "            print(f\"user said:{statement}\\n\")\n",
    "\n",
    "        except Exception as e:\n",
    "            speak(\"Excuse me, please say that again\")\n",
    "            return \"None\"\n",
    "        return statement\n",
    "\n",
    "print(\"Your Digital Assistant is loading\")\n",
    "speak(\"Your Digital Assistant is loading\")\n",
    "wishMe()"
   ]
  },
  {
   "cell_type": "code",
   "execution_count": null,
   "id": "1d9bd60f-5dd2-4f43-aad1-03ecda7b1860",
   "metadata": {},
   "outputs": [],
   "source": [
    "#Main Function - Commands given by the humans is stored in the variable statement\n",
    "if __name__=='__main__':\n",
    "    while True:\n",
    "        speak(\"Tell me what you need\")\n",
    "        statement = takeCommand().lower()\n",
    "        if statement==0:\n",
    "            continue\n",
    "#Inserting trigger words to shut down Digital assistant\n",
    "if \"good bye\" in statement or \"ok bye\" in statement or \"stop\" in statement:\n",
    "            speak('Your Digital Assistant is shutting down,Good bye')\n",
    "            print('Your Digital Assistant is shutting down,Good bye')\n",
    "            break"
   ]
  },
  {
   "cell_type": "code",
   "execution_count": null,
   "id": "5064d44f-1ad7-4889-a160-a4602fa1a1c0",
   "metadata": {},
   "outputs": [],
   "source": [
    "#Skill1 - Fetching data from Wikipedia\n",
    "if 'wikipedia' in statement:\n",
    "            speak('Searching Wikipedia...')\n",
    "            statement =statement.replace(\"wikipedia\", \"\")\n",
    "            results = wikipedia.summary(statement, sentences=3)\n",
    "            speak(\"According to Wikipedia\")\n",
    "            print(results)\n",
    "            speak(results)"
   ]
  },
  {
   "cell_type": "code",
   "execution_count": null,
   "id": "63cdbb21-8f0d-496c-a73f-ad7e7d5f7ebf",
   "metadata": {},
   "outputs": [],
   "source": [
    "#Skill2 - Accessing the Web Browsers - Google chrome, G-Mail & YouTube\n",
    "        elif 'open youtube' in statement:\n",
    "            webbrowser.open_new_tab(\"https://www.youtube.com\")\n",
    "            speak(\"youtube is open now\")\n",
    "            time.sleep(5)\n",
    "\n",
    "        elif 'open google' in statement:\n",
    "            webbrowser.open_new_tab(\"https://www.google.com\")\n",
    "            speak(\"Google chrome is open now\")\n",
    "            time.sleep(5)\n",
    "\n",
    "        elif 'open gmail' in statement:\n",
    "            webbrowser.open_new_tab(\"gmail.com\")\n",
    "            speak(\"Google Mail open now\")\n",
    "            time.sleep(5)"
   ]
  },
  {
   "cell_type": "code",
   "execution_count": null,
   "id": "018b5306-902a-4ab8-85df-b84e20e841a0",
   "metadata": {},
   "outputs": [],
   "source": [
    "#Skill3 - Predicting Time\n",
    "    elif 'time' in statement:\n",
    "        strTime = datetime.datetime.now().strftime('%H:%M:%S')\n",
    "        speak(f'the time is {strTime}')"
   ]
  },
  {
   "cell_type": "code",
   "execution_count": null,
   "id": "f268d973-a8cd-4a06-a702-9911e9c3e630",
   "metadata": {},
   "outputs": [],
   "source": [
    "#Skill4 - To fetch lastest news\n",
    "        elif 'news' in statement:\n",
    "            news = webbrowser.open_new_tab(\"https://timesofindia.indiatimes.com/home/headlines”)\n",
    "            speak('Here are some headlines from the Times of India,Happy reading')\n",
    "            time.sleep(6)"
   ]
  },
  {
   "cell_type": "code",
   "execution_count": null,
   "id": "faaa640c-f3a9-4dd1-899a-391833da4a50",
   "metadata": {},
   "outputs": [],
   "source": [
    "#Skill5 - Capturing photo\n",
    "        elif \"camera\" in statement or \"take a photo\" in statement:\n",
    "            ec.capture(0,\"robo camera\",\"img.jpg\")"
   ]
  },
  {
   "cell_type": "code",
   "execution_count": null,
   "id": "593345aa-7976-48ad-a137-872ad49baf32",
   "metadata": {},
   "outputs": [],
   "source": [
    "#Skill6 - Searching data from Web\n",
    "        elif 'search'  in statement:\n",
    "            statement = statement.replace(\"search\", \"\")\n",
    "            webbrowser.open_new_tab(statement)\n",
    "            time.sleep(5)"
   ]
  },
  {
   "cell_type": "code",
   "execution_count": null,
   "id": "40c26a12-926d-445a-8c1c-ae9b4c7a4dbb",
   "metadata": {},
   "outputs": [],
   "source": [
    "#Skill7 - Answering geographical and computational questions\n",
    "        elif 'ask' in statement:\n",
    "            speak('I can answer to computational and geographical questions  and what question do you want to ask now')\n",
    "            question=takeCommand()\n",
    "            app_id=\"Paste your unique ID here \"\n",
    "            client = wolframalpha.Client('7UUGXR-J5G9URTU27')\n",
    "            res = client.query(question)\n",
    "            answer = next(res.results).text\n",
    "            speak(answer)\n",
    "            print(answer)"
   ]
  },
  {
   "cell_type": "code",
   "execution_count": null,
   "id": "abe7d414-7694-46b6-8f2d-0e174874d624",
   "metadata": {},
   "outputs": [],
   "source": [
    "#Skill8 - Answering Specific Questions\n",
    "       elif 'who are you' in statement or 'what can you do' in statement:\n",
    "            speak('I am your Digital Assistant. I am programmed to minor tasks like'\n",
    "                  'opening youtube,google chrome, gmail and stackoverflow ,predict time,take a photo,search wikipedia,predict weather' \n",
    "                  'In different cities, get top headline news from times of india and you can ask me computational or geographical questions too!')\n",
    "\n",
    "\n",
    "        elif \"who made you\" in statement or \"who created you\" in statement or \"who discovered you\" in statement:\n",
    "            speak(\"I was built by Burnz\")\n",
    "            print(\"I was built by Burnz\")"
   ]
  },
  {
   "cell_type": "code",
   "execution_count": null,
   "id": "7ea07042-49ef-452c-a936-5404860bf324",
   "metadata": {},
   "outputs": [],
   "source": [
    "#Skill9 - To forecast weather\n",
    "        elif \"weather\" in statement:\n",
    "            api_key=\"62202aa52eb190d4de82d98825b6b3db\"\n",
    "            base_url=\"https://api.openweathermap.org/data/2.5/weather?\"\n",
    "            speak(\"what is the city name\")\n",
    "            city_name=takeCommand()\n",
    "            complete_url=base_url+\"appid=\"+api_key+\"&q=\"+city_name\n",
    "            response = requests.get(complete_url)\n",
    "            x=response.json()\n",
    "            if x[\"cod\"]!=\"404\":\n",
    "                y=x[\"main\"]\n",
    "                current_temperature = y[\"temp\"]\n",
    "                current_humidiy = y[\"humidity\"]\n",
    "                z = x[\"weather\"]\n",
    "                weather_description = z[0][\"description\"]\n",
    "                speak(\" Temperature in kelvin unit is \" +\n",
    "                      str(current_temperature) +\n",
    "                      \"\\n humidity in percentage is \" +\n",
    "                      str(current_humidiy) +\n",
    "                      \"\\n description  \" +\n",
    "                      str(weather_description))\n",
    "                print(\" Temperature in kelvin unit = \" +\n",
    "                      str(current_temperature) +\n",
    "                      \"\\n humidity (in percentage) = \" +\n",
    "                      str(current_humidiy) +\n",
    "                      \"\\n description = \" +\n",
    "                      str(weather_description))\n"
   ]
  },
  {
   "cell_type": "code",
   "execution_count": null,
   "id": "fdaf52f5-8c86-4438-8184-281a26681e9d",
   "metadata": {},
   "outputs": [],
   "source": [
    "#Skill 10 - To log off your PC\n",
    "        elif \"log off\" in statement or \"sign out\" in statement:\n",
    "            speak(\"Ok , your pc will log off in 10 sec make sure you exit from all applications\")\n",
    "            subprocess.call([\"shutdown\", \"/l\"])\n",
    "\t\t\t\n",
    "time.sleep(3)"
   ]
  },
  {
   "cell_type": "code",
   "execution_count": null,
   "id": "f3519390-66d1-492d-b2d8-90447ade5405",
   "metadata": {},
   "outputs": [],
   "source": []
  }
 ],
 "metadata": {
  "kernelspec": {
   "display_name": "Python 3 (ipykernel)",
   "language": "python",
   "name": "python3"
  },
  "language_info": {
   "codemirror_mode": {
    "name": "ipython",
    "version": 3
   },
   "file_extension": ".py",
   "mimetype": "text/x-python",
   "name": "python",
   "nbconvert_exporter": "python",
   "pygments_lexer": "ipython3",
   "version": "3.10.5"
  }
 },
 "nbformat": 4,
 "nbformat_minor": 5
}
