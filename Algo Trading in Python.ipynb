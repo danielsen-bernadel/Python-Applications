{
 "cells": [
  {
   "cell_type": "markdown",
   "id": "f38782e0-f3ef-4530-9c3b-6f3cd1e94062",
   "metadata": {},
   "source": [
    "<h1> Algorithmic Trading in Python </h1>\n",
    "<a href = \"https://www.freecodecamp.org/news/algorithmic-trading-in-python/\"> Thank you for the Guide </a>"
   ]
  },
  {
   "cell_type": "code",
   "execution_count": 15,
   "id": "36ffc244-768d-4a6f-abcd-2b68ef484912",
   "metadata": {},
   "outputs": [],
   "source": [
    "#importing required packages\n",
    "import pandas as pd\n",
    "import quandl as q\n",
    "import yfinance as yf"
   ]
  },
  {
   "cell_type": "code",
   "execution_count": 12,
   "id": "b8781187-36ed-42eb-9d9d-7c4d568397b9",
   "metadata": {},
   "outputs": [],
   "source": [
    "# set the API key\n",
    "q.ApiConfig.api_key = 'eMDVBLm-mHos3L-_Vn27'"
   ]
  },
  {
   "cell_type": "code",
   "execution_count": 19,
   "id": "25582dd2-6083-4c46-a33f-a1eea12903d8",
   "metadata": {},
   "outputs": [
    {
     "name": "stdout",
     "output_type": "stream",
     "text": [
      "[*********************100%***********************]  1 of 1 completed\n"
     ]
    },
    {
     "data": {
      "text/html": [
       "<div>\n",
       "<style scoped>\n",
       "    .dataframe tbody tr th:only-of-type {\n",
       "        vertical-align: middle;\n",
       "    }\n",
       "\n",
       "    .dataframe tbody tr th {\n",
       "        vertical-align: top;\n",
       "    }\n",
       "\n",
       "    .dataframe thead th {\n",
       "        text-align: right;\n",
       "    }\n",
       "</style>\n",
       "<table border=\"1\" class=\"dataframe\">\n",
       "  <thead>\n",
       "    <tr style=\"text-align: right;\">\n",
       "      <th></th>\n",
       "      <th>Open</th>\n",
       "      <th>High</th>\n",
       "      <th>Low</th>\n",
       "      <th>Close</th>\n",
       "      <th>Adj Close</th>\n",
       "      <th>Volume</th>\n",
       "    </tr>\n",
       "    <tr>\n",
       "      <th>Date</th>\n",
       "      <th></th>\n",
       "      <th></th>\n",
       "      <th></th>\n",
       "      <th></th>\n",
       "      <th></th>\n",
       "      <th></th>\n",
       "    </tr>\n",
       "  </thead>\n",
       "  <tbody>\n",
       "    <tr>\n",
       "      <th>2010-01-04</th>\n",
       "      <td>30.620001</td>\n",
       "      <td>31.100000</td>\n",
       "      <td>30.590000</td>\n",
       "      <td>30.950001</td>\n",
       "      <td>23.800222</td>\n",
       "      <td>38409100</td>\n",
       "    </tr>\n",
       "    <tr>\n",
       "      <th>2010-01-05</th>\n",
       "      <td>30.850000</td>\n",
       "      <td>31.100000</td>\n",
       "      <td>30.639999</td>\n",
       "      <td>30.959999</td>\n",
       "      <td>23.807911</td>\n",
       "      <td>49749600</td>\n",
       "    </tr>\n",
       "    <tr>\n",
       "      <th>2010-01-06</th>\n",
       "      <td>30.879999</td>\n",
       "      <td>31.080000</td>\n",
       "      <td>30.520000</td>\n",
       "      <td>30.770000</td>\n",
       "      <td>23.661810</td>\n",
       "      <td>58182400</td>\n",
       "    </tr>\n",
       "    <tr>\n",
       "      <th>2010-01-07</th>\n",
       "      <td>30.629999</td>\n",
       "      <td>30.700001</td>\n",
       "      <td>30.190001</td>\n",
       "      <td>30.450001</td>\n",
       "      <td>23.415730</td>\n",
       "      <td>50559700</td>\n",
       "    </tr>\n",
       "    <tr>\n",
       "      <th>2010-01-08</th>\n",
       "      <td>30.280001</td>\n",
       "      <td>30.879999</td>\n",
       "      <td>30.240000</td>\n",
       "      <td>30.660000</td>\n",
       "      <td>23.577221</td>\n",
       "      <td>51197400</td>\n",
       "    </tr>\n",
       "  </tbody>\n",
       "</table>\n",
       "</div>"
      ],
      "text/plain": [
       "                 Open       High        Low      Close  Adj Close    Volume\n",
       "Date                                                                       \n",
       "2010-01-04  30.620001  31.100000  30.590000  30.950001  23.800222  38409100\n",
       "2010-01-05  30.850000  31.100000  30.639999  30.959999  23.807911  49749600\n",
       "2010-01-06  30.879999  31.080000  30.520000  30.770000  23.661810  58182400\n",
       "2010-01-07  30.629999  30.700001  30.190001  30.450001  23.415730  50559700\n",
       "2010-01-08  30.280001  30.879999  30.240000  30.660000  23.577221  51197400"
      ]
     },
     "execution_count": 19,
     "metadata": {},
     "output_type": "execute_result"
    }
   ],
   "source": [
    "#send a get request to query Microsoft's end of day stock prices from 1st #Jan, 2010 to 1st Jan, 2019\n",
    "#msft_data = q.get(\"EOD/MSFT\", start_date=\"2010-01-01\", end_date=\"2019-01-01\") - using quandl\n",
    "\n",
    "msft_data = yf.download('MSFT', start='2010-01-01', end='2019-01-01')\n",
    "#look at the first 5 rows of the dataframe\n",
    "msft_data.head()"
   ]
  },
  {
   "cell_type": "code",
   "execution_count": 20,
   "id": "a4d350b2-7ef3-4a38-b27c-13c00479d05e",
   "metadata": {},
   "outputs": [
    {
     "name": "stdout",
     "output_type": "stream",
     "text": [
      "<class 'pandas.core.frame.DataFrame'>\n",
      "DatetimeIndex: 2264 entries, 2010-01-04 to 2018-12-31\n",
      "Data columns (total 6 columns):\n",
      " #   Column     Non-Null Count  Dtype  \n",
      "---  ------     --------------  -----  \n",
      " 0   Open       2264 non-null   float64\n",
      " 1   High       2264 non-null   float64\n",
      " 2   Low        2264 non-null   float64\n",
      " 3   Close      2264 non-null   float64\n",
      " 4   Adj Close  2264 non-null   float64\n",
      " 5   Volume     2264 non-null   int64  \n",
      "dtypes: float64(5), int64(1)\n",
      "memory usage: 123.8 KB\n"
     ]
    }
   ],
   "source": [
    "#print the DataFrame's info, we can see all that it contains:\n",
    "msft_data.info()"
   ]
  },
  {
   "cell_type": "code",
   "execution_count": 21,
   "id": "7a2fa9e3-2697-4b9a-938e-9a17cd762f8a",
   "metadata": {},
   "outputs": [
    {
     "data": {
      "text/html": [
       "<div>\n",
       "<style scoped>\n",
       "    .dataframe tbody tr th:only-of-type {\n",
       "        vertical-align: middle;\n",
       "    }\n",
       "\n",
       "    .dataframe tbody tr th {\n",
       "        vertical-align: top;\n",
       "    }\n",
       "\n",
       "    .dataframe thead th {\n",
       "        text-align: right;\n",
       "    }\n",
       "</style>\n",
       "<table border=\"1\" class=\"dataframe\">\n",
       "  <thead>\n",
       "    <tr style=\"text-align: right;\">\n",
       "      <th></th>\n",
       "      <th>Open</th>\n",
       "      <th>High</th>\n",
       "      <th>Low</th>\n",
       "      <th>Close</th>\n",
       "      <th>Adj Close</th>\n",
       "      <th>Volume</th>\n",
       "    </tr>\n",
       "  </thead>\n",
       "  <tbody>\n",
       "    <tr>\n",
       "      <th>count</th>\n",
       "      <td>2264.000000</td>\n",
       "      <td>2264.000000</td>\n",
       "      <td>2264.000000</td>\n",
       "      <td>2264.000000</td>\n",
       "      <td>2264.000000</td>\n",
       "      <td>2.264000e+03</td>\n",
       "    </tr>\n",
       "    <tr>\n",
       "      <th>mean</th>\n",
       "      <td>48.070428</td>\n",
       "      <td>48.480839</td>\n",
       "      <td>47.635742</td>\n",
       "      <td>48.078754</td>\n",
       "      <td>42.897215</td>\n",
       "      <td>4.163436e+07</td>\n",
       "    </tr>\n",
       "    <tr>\n",
       "      <th>std</th>\n",
       "      <td>23.918008</td>\n",
       "      <td>24.122417</td>\n",
       "      <td>23.658304</td>\n",
       "      <td>23.896496</td>\n",
       "      <td>24.257013</td>\n",
       "      <td>2.348979e+07</td>\n",
       "    </tr>\n",
       "    <tr>\n",
       "      <th>min</th>\n",
       "      <td>23.090000</td>\n",
       "      <td>23.320000</td>\n",
       "      <td>22.730000</td>\n",
       "      <td>23.010000</td>\n",
       "      <td>17.857407</td>\n",
       "      <td>7.425600e+06</td>\n",
       "    </tr>\n",
       "    <tr>\n",
       "      <th>25%</th>\n",
       "      <td>28.887499</td>\n",
       "      <td>29.190001</td>\n",
       "      <td>28.615001</td>\n",
       "      <td>28.860001</td>\n",
       "      <td>23.277830</td>\n",
       "      <td>2.586055e+07</td>\n",
       "    </tr>\n",
       "    <tr>\n",
       "      <th>50%</th>\n",
       "      <td>41.369999</td>\n",
       "      <td>41.674999</td>\n",
       "      <td>41.040001</td>\n",
       "      <td>41.469999</td>\n",
       "      <td>36.132755</td>\n",
       "      <td>3.620060e+07</td>\n",
       "    </tr>\n",
       "    <tr>\n",
       "      <th>75%</th>\n",
       "      <td>57.872499</td>\n",
       "      <td>58.067501</td>\n",
       "      <td>57.427499</td>\n",
       "      <td>57.889999</td>\n",
       "      <td>53.096055</td>\n",
       "      <td>5.172612e+07</td>\n",
       "    </tr>\n",
       "    <tr>\n",
       "      <th>max</th>\n",
       "      <td>115.419998</td>\n",
       "      <td>116.180000</td>\n",
       "      <td>114.930000</td>\n",
       "      <td>115.610001</td>\n",
       "      <td>110.825478</td>\n",
       "      <td>3.193179e+08</td>\n",
       "    </tr>\n",
       "  </tbody>\n",
       "</table>\n",
       "</div>"
      ],
      "text/plain": [
       "              Open         High          Low        Close    Adj Close  \\\n",
       "count  2264.000000  2264.000000  2264.000000  2264.000000  2264.000000   \n",
       "mean     48.070428    48.480839    47.635742    48.078754    42.897215   \n",
       "std      23.918008    24.122417    23.658304    23.896496    24.257013   \n",
       "min      23.090000    23.320000    22.730000    23.010000    17.857407   \n",
       "25%      28.887499    29.190001    28.615001    28.860001    23.277830   \n",
       "50%      41.369999    41.674999    41.040001    41.469999    36.132755   \n",
       "75%      57.872499    58.067501    57.427499    57.889999    53.096055   \n",
       "max     115.419998   116.180000   114.930000   115.610001   110.825478   \n",
       "\n",
       "             Volume  \n",
       "count  2.264000e+03  \n",
       "mean   4.163436e+07  \n",
       "std    2.348979e+07  \n",
       "min    7.425600e+06  \n",
       "25%    2.586055e+07  \n",
       "50%    3.620060e+07  \n",
       "75%    5.172612e+07  \n",
       "max    3.193179e+08  "
      ]
     },
     "execution_count": 21,
     "metadata": {},
     "output_type": "execute_result"
    }
   ],
   "source": [
    "#Summary statistics of the data\n",
    "msft_data.describe()"
   ]
  },
  {
   "cell_type": "markdown",
   "id": "0768190f-f268-4d57-917b-baa9520d32c6",
   "metadata": {},
   "source": [
    "<b> Pandas’ resample() method </b> is used to facilitate control and flexibility on the frequency conversion of the time series data. We can specify the time intervals to resample the data to monthly, quarterly, or yearly, and perform the required operation over it."
   ]
  },
  {
   "cell_type": "code",
   "execution_count": 23,
   "id": "c23da92b-bb18-4a7f-85ed-07529281b5a3",
   "metadata": {},
   "outputs": [
    {
     "data": {
      "text/html": [
       "<div>\n",
       "<style scoped>\n",
       "    .dataframe tbody tr th:only-of-type {\n",
       "        vertical-align: middle;\n",
       "    }\n",
       "\n",
       "    .dataframe tbody tr th {\n",
       "        vertical-align: top;\n",
       "    }\n",
       "\n",
       "    .dataframe thead th {\n",
       "        text-align: right;\n",
       "    }\n",
       "</style>\n",
       "<table border=\"1\" class=\"dataframe\">\n",
       "  <thead>\n",
       "    <tr style=\"text-align: right;\">\n",
       "      <th></th>\n",
       "      <th>Open</th>\n",
       "      <th>High</th>\n",
       "      <th>Low</th>\n",
       "      <th>Close</th>\n",
       "      <th>Adj Close</th>\n",
       "      <th>Volume</th>\n",
       "    </tr>\n",
       "    <tr>\n",
       "      <th>Date</th>\n",
       "      <th></th>\n",
       "      <th></th>\n",
       "      <th></th>\n",
       "      <th></th>\n",
       "      <th></th>\n",
       "      <th></th>\n",
       "    </tr>\n",
       "  </thead>\n",
       "  <tbody>\n",
       "    <tr>\n",
       "      <th>2010-01-31</th>\n",
       "      <td>30.287895</td>\n",
       "      <td>30.584211</td>\n",
       "      <td>29.830526</td>\n",
       "      <td>30.146842</td>\n",
       "      <td>23.182604</td>\n",
       "      <td>7.156057e+07</td>\n",
       "    </tr>\n",
       "    <tr>\n",
       "      <th>2010-02-28</th>\n",
       "      <td>28.323684</td>\n",
       "      <td>28.563158</td>\n",
       "      <td>28.064737</td>\n",
       "      <td>28.356316</td>\n",
       "      <td>21.854470</td>\n",
       "      <td>5.656017e+07</td>\n",
       "    </tr>\n",
       "    <tr>\n",
       "      <th>2010-03-31</th>\n",
       "      <td>29.253478</td>\n",
       "      <td>29.477391</td>\n",
       "      <td>29.044348</td>\n",
       "      <td>29.258696</td>\n",
       "      <td>22.604842</td>\n",
       "      <td>4.827118e+07</td>\n",
       "    </tr>\n",
       "    <tr>\n",
       "      <th>2010-04-30</th>\n",
       "      <td>30.438572</td>\n",
       "      <td>30.750476</td>\n",
       "      <td>30.255714</td>\n",
       "      <td>30.522857</td>\n",
       "      <td>23.581515</td>\n",
       "      <td>6.281093e+07</td>\n",
       "    </tr>\n",
       "    <tr>\n",
       "      <th>2010-05-31</th>\n",
       "      <td>28.285000</td>\n",
       "      <td>28.616500</td>\n",
       "      <td>27.749000</td>\n",
       "      <td>28.117000</td>\n",
       "      <td>21.764608</td>\n",
       "      <td>8.600651e+07</td>\n",
       "    </tr>\n",
       "  </tbody>\n",
       "</table>\n",
       "</div>"
      ],
      "text/plain": [
       "                 Open       High        Low      Close  Adj Close  \\\n",
       "Date                                                                \n",
       "2010-01-31  30.287895  30.584211  29.830526  30.146842  23.182604   \n",
       "2010-02-28  28.323684  28.563158  28.064737  28.356316  21.854470   \n",
       "2010-03-31  29.253478  29.477391  29.044348  29.258696  22.604842   \n",
       "2010-04-30  30.438572  30.750476  30.255714  30.522857  23.581515   \n",
       "2010-05-31  28.285000  28.616500  27.749000  28.117000  21.764608   \n",
       "\n",
       "                  Volume  \n",
       "Date                      \n",
       "2010-01-31  7.156057e+07  \n",
       "2010-02-28  5.656017e+07  \n",
       "2010-03-31  4.827118e+07  \n",
       "2010-04-30  6.281093e+07  \n",
       "2010-05-31  8.600651e+07  "
      ]
     },
     "execution_count": 23,
     "metadata": {},
     "output_type": "execute_result"
    }
   ],
   "source": [
    "msft_data.resample('M').mean().head()"
   ]
  },
  {
   "cell_type": "markdown",
   "id": "d585f255-0450-45d2-883a-3c8fdc1168e2",
   "metadata": {},
   "source": [
    "<h1> Calculating Returns </h1>"
   ]
  },
  {
   "cell_type": "code",
   "execution_count": 24,
   "id": "d8674724-6f83-4ea5-b58a-481e36029cd9",
   "metadata": {},
   "outputs": [],
   "source": [
    "#import numpy package\n",
    "import numpy as np"
   ]
  },
  {
   "cell_type": "code",
   "execution_count": 28,
   "id": "e8701196-474e-401a-bd4f-82139b07f06b",
   "metadata": {},
   "outputs": [
    {
     "name": "stdout",
     "output_type": "stream",
     "text": [
      "            Adj Close\n",
      "Date                 \n",
      "2010-01-04   0.000000\n",
      "2010-01-05   0.000323\n",
      "2010-01-06  -0.006137\n",
      "2010-01-07  -0.010400\n",
      "2010-01-08   0.006897\n",
      "...               ...\n",
      "2018-12-24  -0.041739\n",
      "2018-12-26   0.068310\n",
      "2018-12-27   0.006165\n",
      "2018-12-28  -0.007808\n",
      "2018-12-31   0.011754\n",
      "\n",
      "[2264 rows x 1 columns]\n"
     ]
    }
   ],
   "source": [
    "#assign 'Adj Close' to 'daily_close'\n",
    "daily_close = msft_data[['Adj Close']]\n",
    "\n",
    "#returns as fractional change\n",
    "daily_return = daily_close.pct_change() ## The formula used in pct_change() is: Return = {(Price at t)-(Price at t-1)}/{Price at t-1}\n",
    "\n",
    "#replacing NA values with 0\n",
    "daily_return.fillna(0, inplace=True)\n",
    "\n",
    "print(daily_return)"
   ]
  },
  {
   "cell_type": "code",
   "execution_count": 30,
   "id": "e230d42f-b17b-4ddb-926b-71aeb4e63ee9",
   "metadata": {},
   "outputs": [],
   "source": [
    "# Calculate monthly returns\n",
    "# apply() takes in a function and applies it to each and every row of the Pandas series.\n",
    "# THe lambda function is an anonymous function in Python which can be defined without a name, and only takes expression in the following format: Lamda: expression\n",
    "mdata = msft_data.resample('M').apply(lambda x: x[-1]) \n",
    "monthly_return = mdata.pct_change()"
   ]
  },
  {
   "cell_type": "markdown",
   "id": "d2dfaebb-1ffb-4d58-837c-556b37462dbc",
   "metadata": {},
   "source": [
    "<h1> Moving Averages in Trading </h1>"
   ]
  },
  {
   "cell_type": "code",
   "execution_count": 33,
   "id": "5d301ca6-e689-4e0d-95f8-920dbd184a21",
   "metadata": {},
   "outputs": [
    {
     "name": "stdout",
     "output_type": "stream",
     "text": [
      "Date\n",
      "2018-12-17    103.429623\n",
      "2018-12-18    103.281788\n",
      "2018-12-19    103.153103\n",
      "2018-12-20    102.955408\n",
      "2018-12-21    102.811508\n",
      "2018-12-24    102.593455\n",
      "2018-12-26    102.429041\n",
      "2018-12-27    102.314335\n",
      "2018-12-28    102.119232\n",
      "2018-12-31    101.952410\n",
      "Name: Adj Close, dtype: float64\n"
     ]
    }
   ],
   "source": [
    "# assigning adjusted closing prices to \n",
    "adj_price = msft_data['Adj Close']\n",
    "\n",
    "# calculate the moving average\n",
    "mav = adj_price.rolling(window=50).mean()\n",
    "\n",
    "# print the result\n",
    "print(mav[-10:])"
   ]
  },
  {
   "cell_type": "code",
   "execution_count": 36,
   "id": "576691d0-35a1-4fc1-9a8b-1a587ca1157e",
   "metadata": {},
   "outputs": [
    {
     "data": {
      "text/plain": [
       "<AxesSubplot:xlabel='Date'>"
      ]
     },
     "execution_count": 36,
     "metadata": {},
     "output_type": "execute_result"
    },
    {
     "data": {
      "image/png": "[encoded data removed]",
      "text/plain": [
       "<Figure size 432x288 with 1 Axes>"
      ]
     },
     "metadata": {
      "needs_background": "light"
     },
     "output_type": "display_data"
    }
   ],
   "source": [
    "# import the matplotlib package to see the plot\n",
    "import matplotlib.pyplot as plt\n",
    "adj_price.plot()"
   ]
  },
  {
   "cell_type": "code",
   "execution_count": 37,
   "id": "bff072c9-99c7-4b46-b0ec-4b1d9afcc099",
   "metadata": {},
   "outputs": [
    {
     "data": {
      "text/plain": [
       "<AxesSubplot:xlabel='Date'>"
      ]
     },
     "execution_count": 37,
     "metadata": {},
     "output_type": "execute_result"
    },
    {
     "data": {
      "image/png": "[encoded data removed]",
      "text/plain": [
       "<Figure size 432x288 with 1 Axes>"
      ]
     },
     "metadata": {
      "needs_background": "light"
     },
     "output_type": "display_data"
    }
   ],
   "source": [
    "#plot the rolling mean()\n",
    "mav.plot()"
   ]
  },
  {
   "cell_type": "markdown",
   "id": "5b6d4641-a596-44a7-ac27-d337f782031f",
   "metadata": {},
   "source": [
    "<h1> Momentum-based Simple Moving Average Crossover (SMAC) strategy </h1>\n",
    "The SMAC strategy is a well-known schematic momentum strategy. It is a long-only strategy. Momentum, here, is the total return of stock including the dividends over the last n months. This period of n months is called the lookback period.\n",
    "\n",
    "There are 3 main types of lookback periods: short term, intermediate-term, and long term. We need to define 2 different lookback periods of a particular time series.\n",
    "\n",
    "A buy signal is generated when the shorter lookback rolling mean (or moving average) overshoots the longer lookback moving average. A sell signal occurs when the shorter lookback moving average dips below the longer moving average."
   ]
  },
  {
   "cell_type": "code",
   "execution_count": 45,
   "id": "5e71ac48-2120-4fcf-aec0-eb35b7aa6656",
   "metadata": {},
   "outputs": [],
   "source": [
    "# step1: initialize the short and long lookback periods\n",
    "short_lb = 50\n",
    "long_lb = 120\n",
    "\n",
    "# step2: initialize a new DataFrame called signal_df with a signal column\n",
    "signal_df = pd.DataFrame(index=msft_data.index)\n",
    "signal_df['signal'] = 0.0\n",
    "\n",
    "# step3: create a short simple moving average over the short lookback period\n",
    "signal_df['short_mav'] = msft_data['Adj Close'].rolling(window=short_lb, min_periods=1, center=False).mean()"
   ]
  },
  {
   "cell_type": "code",
   "execution_count": 48,
   "id": "f78b8ff9-2de2-47fd-a772-7baba8dd9019",
   "metadata": {},
   "outputs": [
    {
     "data": {
      "text/html": [
       "<div>\n",
       "<style scoped>\n",
       "    .dataframe tbody tr th:only-of-type {\n",
       "        vertical-align: middle;\n",
       "    }\n",
       "\n",
       "    .dataframe tbody tr th {\n",
       "        vertical-align: top;\n",
       "    }\n",
       "\n",
       "    .dataframe thead th {\n",
       "        text-align: right;\n",
       "    }\n",
       "</style>\n",
       "<table border=\"1\" class=\"dataframe\">\n",
       "  <thead>\n",
       "    <tr style=\"text-align: right;\">\n",
       "      <th></th>\n",
       "      <th>signal</th>\n",
       "      <th>short_mav</th>\n",
       "      <th>long_mav</th>\n",
       "      <th>positions</th>\n",
       "    </tr>\n",
       "    <tr>\n",
       "      <th>Date</th>\n",
       "      <th></th>\n",
       "      <th></th>\n",
       "      <th></th>\n",
       "      <th></th>\n",
       "    </tr>\n",
       "  </thead>\n",
       "  <tbody>\n",
       "    <tr>\n",
       "      <th>2010-06-07</th>\n",
       "      <td>0.0</td>\n",
       "      <td>22.460458</td>\n",
       "      <td>22.497515</td>\n",
       "      <td>-1.0</td>\n",
       "    </tr>\n",
       "    <tr>\n",
       "      <th>2011-03-31</th>\n",
       "      <td>0.0</td>\n",
       "      <td>21.011322</td>\n",
       "      <td>21.018860</td>\n",
       "      <td>-1.0</td>\n",
       "    </tr>\n",
       "    <tr>\n",
       "      <th>2012-06-21</th>\n",
       "      <td>0.0</td>\n",
       "      <td>24.715622</td>\n",
       "      <td>24.725259</td>\n",
       "      <td>-1.0</td>\n",
       "    </tr>\n",
       "    <tr>\n",
       "      <th>2012-11-14</th>\n",
       "      <td>0.0</td>\n",
       "      <td>24.378682</td>\n",
       "      <td>24.415479</td>\n",
       "      <td>-1.0</td>\n",
       "    </tr>\n",
       "    <tr>\n",
       "      <th>2013-09-19</th>\n",
       "      <td>0.0</td>\n",
       "      <td>27.629379</td>\n",
       "      <td>27.649516</td>\n",
       "      <td>-1.0</td>\n",
       "    </tr>\n",
       "    <tr>\n",
       "      <th>2015-02-09</th>\n",
       "      <td>0.0</td>\n",
       "      <td>40.392853</td>\n",
       "      <td>40.408298</td>\n",
       "      <td>-1.0</td>\n",
       "    </tr>\n",
       "    <tr>\n",
       "      <th>2015-09-18</th>\n",
       "      <td>0.0</td>\n",
       "      <td>40.248597</td>\n",
       "      <td>40.269634</td>\n",
       "      <td>-1.0</td>\n",
       "    </tr>\n",
       "    <tr>\n",
       "      <th>2016-03-21</th>\n",
       "      <td>0.0</td>\n",
       "      <td>47.036414</td>\n",
       "      <td>47.077462</td>\n",
       "      <td>-1.0</td>\n",
       "    </tr>\n",
       "    <tr>\n",
       "      <th>2016-06-10</th>\n",
       "      <td>0.0</td>\n",
       "      <td>47.704486</td>\n",
       "      <td>47.731915</td>\n",
       "      <td>-1.0</td>\n",
       "    </tr>\n",
       "    <tr>\n",
       "      <th>2018-12-17</th>\n",
       "      <td>0.0</td>\n",
       "      <td>103.429623</td>\n",
       "      <td>103.563968</td>\n",
       "      <td>-1.0</td>\n",
       "    </tr>\n",
       "  </tbody>\n",
       "</table>\n",
       "</div>"
      ],
      "text/plain": [
       "            signal   short_mav    long_mav  positions\n",
       "Date                                                 \n",
       "2010-06-07     0.0   22.460458   22.497515       -1.0\n",
       "2011-03-31     0.0   21.011322   21.018860       -1.0\n",
       "2012-06-21     0.0   24.715622   24.725259       -1.0\n",
       "2012-11-14     0.0   24.378682   24.415479       -1.0\n",
       "2013-09-19     0.0   27.629379   27.649516       -1.0\n",
       "2015-02-09     0.0   40.392853   40.408298       -1.0\n",
       "2015-09-18     0.0   40.248597   40.269634       -1.0\n",
       "2016-03-21     0.0   47.036414   47.077462       -1.0\n",
       "2016-06-10     0.0   47.704486   47.731915       -1.0\n",
       "2018-12-17     0.0  103.429623  103.563968       -1.0"
      ]
     },
     "execution_count": 48,
     "metadata": {},
     "output_type": "execute_result"
    }
   ],
   "source": [
    "# step4: create long simple moving average over the long lookback period\n",
    "signal_df['long_mav'] = msft_data['Adj Close'].rolling(window=long_lb, min_periods=1, center=False).mean()\n",
    "\n",
    "# step5: generate the signals based on the conditional statement\n",
    "signal_df['signal'][short_lb:] = np.where(signal_df['short_mav'][short_lb:] > signal_df['long_mav'][short_lb:], 1.0, 0.0)\n",
    "\n",
    "# step6: create the trading orders based on the positions column\n",
    "signal_df['positions'] = signal_df['signal'].diff()\n",
    "signal_df[signal_df['positions'] == -1.0]"
   ]
  },
  {
   "cell_type": "code",
   "execution_count": 56,
   "id": "c57b78cc-2e5c-4d27-9f9a-f4741413af56",
   "metadata": {},
   "outputs": [
    {
     "data": {
      "text/plain": [
       "[<matplotlib.lines.Line2D at 0x2212dee11e0>]"
      ]
     },
     "execution_count": 56,
     "metadata": {},
     "output_type": "execute_result"
    },
    {
     "data": {
      "image/png": "[encoded data removed]",
      "text/plain": [
       "<Figure size 864x576 with 1 Axes>"
      ]
     },
     "metadata": {
      "needs_background": "light"
     },
     "output_type": "display_data"
    }
   ],
   "source": [
    "# initialize the plot using plt\n",
    "fig = plt.figure()\n",
    "\n",
    "# Add a subplot and label for y-axis\n",
    "plt1 = fig.add_subplot(111,  ylabel='Price in $')\n",
    "msft_data['Adj Close'].plot(ax=plt1, color='r', lw=2.)\n",
    "\n",
    "# plot the short and long lookback moving averages\n",
    "signal_df[['short_mav', 'long_mav']].plot(ax=plt1, lw=2., figsize=(12,8))\n",
    "\n",
    "# plotting the sell signals\n",
    "plt1.plot(signal_df.loc[signal_df.positions == -1.0].index, signal_df.short_mav[signal_df.positions == -1.0],'v', markersize=10, color='k')\n",
    "\n",
    "# plotting the buy signals\n",
    "plt1.plot(signal_df.loc[signal_df.positions == 1.0].index, signal_df.short_mav[signal_df.positions == 1.0],'^', markersize=10, color='m')"
   ]
  },
  {
   "cell_type": "code",
   "execution_count": null,
   "id": "0f66a136-18bf-4830-b087-311f4ac1e562",
   "metadata": {},
   "outputs": [],
   "source": []
  },
  {
   "cell_type": "code",
   "execution_count": null,
   "id": "7e6fc9cb-1649-45c4-97b6-bb00745ce2f3",
   "metadata": {},
   "outputs": [],
   "source": []
  }
 ],
 "metadata": {
  "kernelspec": {
   "display_name": "Python 3 (ipykernel)",
   "language": "python",
   "name": "python3"
  },
  "language_info": {
   "codemirror_mode": {
    "name": "ipython",
    "version": 3
   },
   "file_extension": ".py",
   "mimetype": "text/x-python",
   "name": "python",
   "nbconvert_exporter": "python",
   "pygments_lexer": "ipython3",
   "version": "3.10.5"
  }
 },
 "nbformat": 4,
 "nbformat_minor": 5
}
