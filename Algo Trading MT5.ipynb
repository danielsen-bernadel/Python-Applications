{
 "cells": [
  {
   "cell_type": "markdown",
   "id": "20b938ae-2e54-48a9-b4bf-38e7e1501852",
   "metadata": {},
   "source": [
    "<h1 align=\"center\"> Algorithmic Forex Trading With Python: Using MetaTrader5 Python Library For Accurate Data </h1>\n",
    "<a href=\"https://medium.com/mlearning-ai/algorithmic-forex-trading-with-python-using-metatrader5-python-library-for-accurate-data-19dbafb8573c\"> Thank you for the guide </a>"
   ]
  },
  {
   "cell_type": "code",
   "execution_count": 3,
   "id": "6e05af78-f605-45b7-885c-c36c85e139fb",
   "metadata": {},
   "outputs": [
    {
     "data": {
      "text/plain": [
       "False"
      ]
     },
     "execution_count": 3,
     "metadata": {},
     "output_type": "execute_result"
    }
   ],
   "source": [
    "import mt5\n",
    "mt5.initialize()"
   ]
  },
  {
   "cell_type": "code",
   "execution_count": null,
   "id": "e5c2b0a8-d87f-430c-ba8f-34d532f26b80",
   "metadata": {},
   "outputs": [],
   "source": [
    "#Connecting to a terminal\n",
    "if not mt5.initialize():\n",
    "    print(\"initialize() failed, error code =\", mt5.last_error())\n",
    "    quit()\n",
    "mt5.login(login = <account_num>, password=<\"acct_pass\">)"
   ]
  },
  {
   "cell_type": "code",
   "execution_count": null,
   "id": "1e727db7-c4c3-4d71-a3ae-d4547125bb75",
   "metadata": {},
   "outputs": [],
   "source": [
    "#Getting Market Data\n",
    "if not mt5.initialize():\n",
    "        print(\"initialize() failed, error code =\",mt5.last_error())\n",
    "        quit()\n",
    "mt5.login()\n",
    "timezone = pytz.timezone(\"Europe/Tallinn\")\n",
    "now = datetime.datetime.now(timezone)\n",
    "start = datetime.datetime.now(timezone) - timedelta(days=150)\n",
    "utc_from = datetime.datetime(start.year, start.month, start.day)\n",
    "utc_to = datetime.datetime(now.year, now.month, now.day, now.hour, now.minute, now.second)\n",
    "rates = mt5.copy_rates_range(pair, mt5.TIMEFRAME_H4, utc_from, utc_to)\n",
    "print(\"Ticks received:\",len(rates))\n",
    "htf = pd.DataFrame(rates)"
   ]
  },
  {
   "cell_type": "code",
   "execution_count": null,
   "id": "56991bdc-e238-437a-b5be-ddf3308e89f5",
   "metadata": {},
   "outputs": [],
   "source": [
    "#Placing Trades\n",
    "try:\n",
    "    if (mt5.symbol_info_tick(symbol).ask \\-\n",
    "        mt5.symbol_info_tick(symbol).bid) <= threshold:\n",
    "        o1 = mt5.order_send({\"action\": mt5.TRADE_ACTION_DEAL,\n",
    "                             \"symbol\": symbol,\n",
    "                             \"volume\": size\n",
    "                             \"type\": mt5.ORDER_TYPE_BUY,\n",
    "                             \"price\": entry,\n",
    "                             \"sl\": stop,\n",
    "                             \"tp\": target,\n",
    "                             \"deviation\": 10,\n",
    "                             \"magic\": 00000,\n",
    "                             \"comment\": \"insert comment\",\n",
    "                             \"type_time\": mt5.ORDER_TIME_GTC\n",
    "                              })\n",
    "except Exception as e:\n",
    "    print(e)"
   ]
  },
  {
   "cell_type": "code",
   "execution_count": null,
   "id": "fc47e980-94c6-4617-9984-86d1ddaa04cf",
   "metadata": {},
   "outputs": [],
   "source": [
    "#Modifying Trades\n",
    "to_close = mt5.order_send({\n",
    "            \"action\": mt5.TRADE_ACTION_DEAL,\n",
    "            \"symbol\": pair,\n",
    "            \"volume\": mt5.positions_get(symbol)[0].volume,\n",
    "            \"type\": mt5.ORDER_TYPE_SELL, \n",
    "            \"position\": mt5.positions_get(symbol)[0].identifier,\n",
    "            #\"price\": mt5.symbol_info_tick(symbol).bid,\n",
    "            \"deviation\": 10,\n",
    "            \"magic\": 00000,\n",
    "            \"comment\": \"insert comment\",\n",
    "            \"type_time\": mt5.ORDER_TIME_GTC})"
   ]
  },
  {
   "cell_type": "code",
   "execution_count": null,
   "id": "7ee9af43-cfca-414a-8ce7-189d49ae3f7d",
   "metadata": {},
   "outputs": [],
   "source": [
    "#Exiting Trades\n",
    "to_close = mt5.order_send({\n",
    "            \"action\": mt5.TRADE_ACTION_DEAL,\n",
    "            \"symbol\": pair,\n",
    "            \"volume\": mt5.positions_get(symbol=symbol)[0].volume,\n",
    "            \"type\": mt5.ORDER_TYPE_SELL (to close long), or mt5.ORDER_TYPE_BUY (to close short)\n",
    "            \"position\": mt5.positions_get(symbol=symbol)[0].identifier,\n",
    "            #\"price\": mt5.symbol_info_tick(symbol).bid,\n",
    "            \"deviation\": 10,\n",
    "            \"magic\": 0000,\n",
    "            \"comment\": \"insert comment\",\n",
    "            \"type_time\": mt5.ORDER_TIME_GTC,"
   ]
  }
 ],
 "metadata": {
  "kernelspec": {
   "display_name": "Python 3 (ipykernel)",
   "language": "python",
   "name": "python3"
  },
  "language_info": {
   "codemirror_mode": {
    "name": "ipython",
    "version": 3
   },
   "file_extension": ".py",
   "mimetype": "text/x-python",
   "name": "python",
   "nbconvert_exporter": "python",
   "pygments_lexer": "ipython3",
   "version": "3.10.5"
  }
 },
 "nbformat": 4,
 "nbformat_minor": 5
}
