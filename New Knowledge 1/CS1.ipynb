{
 "cells": [
  {
   "cell_type": "code",
   "execution_count": 1,
   "id": "fc643ce7-bdb0-4645-a9eb-e5621fb7dcf7",
   "metadata": {},
   "outputs": [],
   "source": [
    "#Import Necessary Libaries for script\n",
    "from pytz import timezone\n",
    "import matplotlib.pyplot as plt\n",
    "import pandas as pd\n",
    "import time\n",
    "import datetime as dt\n",
    "from datetime import datetime\n",
    "import MetaTrader5 as mt5\n",
    "import pytz\n",
    "import talib\n",
    "import numpy"
   ]
  },
  {
   "cell_type": "code",
   "execution_count": 2,
   "id": "b8d40dad-9341-42a7-8646-41847266681b",
   "metadata": {},
   "outputs": [
    {
     "name": "stdin",
     "output_type": "stream",
     "text": [
      " EURUSD\n"
     ]
    }
   ],
   "source": [
    "#Input Currency Pair to test Strentgth\n",
    "Symbol = input()"
   ]
  },
  {
   "cell_type": "code",
   "execution_count": 3,
   "id": "94da3c0f-136a-4bb1-ad68-1da44554cf39",
   "metadata": {},
   "outputs": [],
   "source": [
    "#Access MT5 package and Initialize the system (Generalized to be inluded in all scripts)\n",
    "if not mt5.initialize():\n",
    "        print(\"initialize() failed, error code =\",mt5.last_error())\n",
    "        quit()\n",
    "mt5.login()\n",
    "#Set parameters for time\n",
    "timezone = pytz.timezone(\"UTC\")\n",
    "now = datetime.now(timezone)\n",
    "start = datetime.now(timezone) - dt.timedelta(days=1)\n",
    "utc_from = datetime(start.year, start.month, start.day)\n",
    "currency_strength = pd.DataFrame()\n",
    "rsi_df=pd.DataFrame()\n",
    "utc_to = datetime(now.year, now.month, now.day, now.hour, now.minute, now.second)\n",
    "#Pull price data from MT5\n",
    "'''rates = mt5.copy_rates_range(Symbol, mt5.TIMEFRAME_M1, utc_from, utc_to)\n",
    "#Format Data in Pandas DataFrames to be manipulated\n",
    "htf = pd.DataFrame(rates)\n",
    "htf['time']=pd.to_datetime(htf['time'], unit='s')'''\n",
    "\n",
    "#Lookback function and timer\n",
    "start=time.time()\n",
    "lookback = 15"
   ]
  },
  {
   "cell_type": "code",
   "execution_count": 12,
   "id": "af565ad0-42e9-41a7-99ba-b9cde295cb9f",
   "metadata": {},
   "outputs": [],
   "source": [
    "currency_pair =[\"EURUSD\",\"EURGBP\",\"EURJPY\",\"EURAUD\",\"EURNZD\",\n",
    "\"EURCHF\",\"EURCAD\",\"GBPUSD\", \"GBPJPY\",\"GBPAUD\",\"GBPNZD\",\"GBPCAD\",\n",
    "\"GBPCHF\",\"USDCAD\", \"USDJPY\",\"CHFJPY\",\"CADJPY\",\"NZDJPY\",\"AUDJPY\",\n",
    "\"AUDNZD\",\"AUDCAD\", \"NZDUSD\",\"NZDCAD\",\"NZDCHF\",\"AUDCHF\",\"CADCHF\",\n",
    "\"AUDUSD\",\"USDCHF\"]\n",
    "\n",
    "for pair in currency_pair:\n",
    "    ohlc = mt5.copy_rates_from(pair,mt5.TIMEFRAME_M15, datetime.now(), lookback)\n",
    "    df = pd.DataFrame(ohlc)\n",
    "    rsi_df[pair]=talib.RSI(df.close,7)"
   ]
  },
  {
   "cell_type": "code",
   "execution_count": null,
   "id": "24e5cf5e-94ad-4508-99da-0905b3dee14c",
   "metadata": {},
   "outputs": [],
   "source": []
  },
  {
   "cell_type": "code",
   "execution_count": 5,
   "id": "addcf020-98c7-452c-8405-f9eb8b535801",
   "metadata": {},
   "outputs": [],
   "source": [
    "#Calculate the Strength of each individual currency\n",
    "rsi_df.tail()\n",
    "strength=pd.DataFrame()\n",
    "strength[\"USD\"]=1/7*((100-rsi_df.EURUSD)+(100-rsi_df.GBPUSD)+\\\n",
    "    rsi_df.USDCAD+rsi_df.USDJPY+(100-rsi_df.NZDUSD)+\\\n",
    "        (100-rsi_df.AUDUSD)+rsi_df.USDCHF)\n",
    "strength[\"EUR\"]=1/7*(rsi_df.EURUSD+rsi_df.EURGBP+\\\n",
    "    rsi_df.EURJPY+rsi_df.EURAUD+rsi_df.EURNZD+rsi_df.EURCHF+\\\n",
    "        rsi_df.EURCAD)\n",
    "strength[\"GBP\"]=1/7*(rsi_df.GBPUSD+rsi_df.GBPJPY+\\\n",
    "    rsi_df.GBPAUD+rsi_df.GBPNZD+rsi_df.GBPCAD+rsi_df.GBPCHF+\\\n",
    "        (100-rsi_df.EURGBP))\n",
    "strength[\"CHF\"]=1/7*((100-rsi_df.EURCHF)+(100-rsi_df.GBPCHF)+\\\n",
    "    (100-rsi_df.NZDCHF)+(100-rsi_df.AUDCHF)+(100-rsi_df.CADCHF)+\\\n",
    "        rsi_df.CHFJPY+(100-rsi_df.USDCHF))\n",
    "strength[\"JPY\"]=1/7*((100-rsi_df.EURJPY)+(100-rsi_df.GBPJPY)+\\\n",
    "    (100-rsi_df.USDJPY)+(100-rsi_df.CHFJPY)+(100-rsi_df.CADJPY)+\\\n",
    "        (100-rsi_df.NZDJPY)+(100-rsi_df.AUDJPY))\n",
    "strength[\"AUD\"]=1/7*((100-rsi_df.EURAUD)+(100-rsi_df.GBPAUD)+\\\n",
    "    (100-rsi_df.AUDJPY)+rsi_df.AUDNZD+rsi_df.AUDCAD+\n",
    "    rsi_df.AUDCHF+rsi_df.AUDUSD)\n",
    "strength[\"CAD\"]=1/7*((100-rsi_df.EURCAD)+(100-rsi_df.GBPCAD)+\\\n",
    "    (100-rsi_df.USDCAD)+rsi_df.CADJPY+(100-rsi_df.AUDCAD)+\\\n",
    "        (100-rsi_df.NZDCAD)+rsi_df.CADCHF)\n",
    "strength[\"NZD\"]=1/7*((100-rsi_df.EURNZD)+(100-rsi_df.GBPNZD)+\\\n",
    "    rsi_df.NZDJPY+rsi_df.NZDUSD+rsi_df.NZDCAD+rsi_df.NZDCHF+\\\n",
    "        (100-rsi_df.AUDNZD))"
   ]
  },
  {
   "cell_type": "code",
   "execution_count": 6,
   "id": "54a91e92-ebcc-48ef-b0a9-c3094f24a25b",
   "metadata": {},
   "outputs": [],
   "source": [
    "#strength.dropna()"
   ]
  },
  {
   "cell_type": "code",
   "execution_count": 7,
   "id": "50ff8076-df52-4496-a8e4-0aa4dc55498b",
   "metadata": {},
   "outputs": [],
   "source": [
    "Major_Pairs = ['EURUSD','USDJPY','USDCHF','USDCAD','GBPUSD','AUDUSD','NZDUSD']"
   ]
  },
  {
   "cell_type": "code",
   "execution_count": 8,
   "id": "9de0608f-9209-415f-b496-1215c249d7cf",
   "metadata": {},
   "outputs": [],
   "source": [
    "if strength['EUR'].loc[strength.index[-1]] > strength['USD'].loc[strength.index[-1]]:\n",
    "    EURUSD = 'Bullish'\n",
    "else:\n",
    "    EURUSD = 'Bearish'\n",
    "if strength['USD'].loc[strength.index[-1]] > strength['JPY'].loc[strength.index[-1]]:\n",
    "    USDJPY = 'Bullish'\n",
    "else:\n",
    "    USDJPY = 'Bearish'\n",
    "if strength['USD'].loc[strength.index[-1]] > strength['CHF'].loc[strength.index[-1]]:\n",
    "    USDCHF = 'Bullish'\n",
    "else:\n",
    "    USDCHF = 'Bearish'\n",
    "if strength['USD'].loc[strength.index[-1]] > strength['CAD'].loc[strength.index[-1]]:\n",
    "    USDCAD = 'Bullish'\n",
    "else:\n",
    "    USDCAD = 'Bearish'\n",
    "if strength['GBP'].loc[strength.index[-1]] > strength['USD'].loc[strength.index[-1]]:\n",
    "    GBPUSD = 'Bullish'\n",
    "else:\n",
    "    GBPUSD = 'Bearish'\n",
    "if strength['AUD'].loc[strength.index[-1]] > strength['USD'].loc[strength.index[-1]]:\n",
    "    AUDUSD = 'Bullish'\n",
    "else:\n",
    "    AUDUSD = 'Bearish'\n",
    "if strength['NZD'].loc[strength.index[-1]] > strength['USD'].loc[strength.index[-1]]:\n",
    "    NZDUSD = 'Bullish'\n",
    "else:\n",
    "    NZDUSD = 'Bearish'"
   ]
  },
  {
   "cell_type": "code",
   "execution_count": 9,
   "id": "9aead49a-e682-4475-90e8-944e1ca02d39",
   "metadata": {},
   "outputs": [
    {
     "name": "stdout",
     "output_type": "stream",
     "text": [
      "EURUSD is Bearish\n"
     ]
    }
   ],
   "source": [
    "MS = eval(Symbol)\n",
    "print(Symbol,'is',MS)"
   ]
  },
  {
   "cell_type": "code",
   "execution_count": 10,
   "id": "5618d046-b89a-4dcb-a3f8-84f7b7510da2",
   "metadata": {},
   "outputs": [
    {
     "data": {
      "text/plain": [
       "<matplotlib.collections.LineCollection at 0x239758fc2b0>"
      ]
     },
     "execution_count": 10,
     "metadata": {},
     "output_type": "execute_result"
    },
    {
     "data": {
      "image/png": "[encoded data removed]",
      "text/plain": [
       "<Figure size 720x648 with 1 Axes>"
      ]
     },
     "metadata": {
      "needs_background": "light"
     },
     "output_type": "display_data"
    }
   ],
   "source": [
    "str =pd.DataFrame()\n",
    "str['Pair'] = [\"USD\",\"EUR\",\"GBP\",\"CHF\",\"JPY\",\"AUD\",\"CAD\",\"NZD\"]\n",
    "str['Currency Strength'] = [int(strength['USD'].loc[strength.index[-1]]),int(strength['EUR'].loc[strength.index[-1]]),int(strength['GBP'].loc[strength.index[-1]]),int(strength['CHF'].loc[strength.index[-1]]),int(strength['JPY'].loc[strength.index[-1]]),int(strength['AUD'].loc[strength.index[-1]]),int(strength['CAD'].loc[strength.index[-1]]),int(strength['NZD'].loc[strength.index[-1]])]\n",
    "str.plot(x=\"Pair\", y=\"Currency Strength\", kind=\"bar\", figsize=(10, 9))\n",
    "plt.hlines(40,-1,8,color='red')\n",
    "plt.hlines(60,-1,8,color='green')"
   ]
  },
  {
   "cell_type": "code",
   "execution_count": 11,
   "id": "0aca1308-815c-4088-b761-3614f512834f",
   "metadata": {},
   "outputs": [
    {
     "data": {
      "text/html": [
       "<div>\n",
       "<style scoped>\n",
       "    .dataframe tbody tr th:only-of-type {\n",
       "        vertical-align: middle;\n",
       "    }\n",
       "\n",
       "    .dataframe tbody tr th {\n",
       "        vertical-align: top;\n",
       "    }\n",
       "\n",
       "    .dataframe thead th {\n",
       "        text-align: right;\n",
       "    }\n",
       "</style>\n",
       "<table border=\"1\" class=\"dataframe\">\n",
       "  <thead>\n",
       "    <tr style=\"text-align: right;\">\n",
       "      <th></th>\n",
       "    </tr>\n",
       "  </thead>\n",
       "  <tbody>\n",
       "  </tbody>\n",
       "</table>\n",
       "</div>"
      ],
      "text/plain": [
       "Empty DataFrame\n",
       "Columns: []\n",
       "Index: []"
      ]
     },
     "execution_count": 11,
     "metadata": {},
     "output_type": "execute_result"
    }
   ],
   "source": [
    "time_frame=[mt5.TIMEFRAME_M1,mt5.TIMEFRAME_M5,mt5.TIMEFRAME_M15]\n",
    "tifr=pd.DataFrame()\n",
    "tifr"
   ]
  },
  {
   "cell_type": "code",
   "execution_count": null,
   "id": "f95e7724-4daf-43bc-b8d5-ac6eb60a1392",
   "metadata": {},
   "outputs": [],
   "source": []
  }
 ],
 "metadata": {
  "kernelspec": {
   "display_name": "Python 3 (ipykernel)",
   "language": "python",
   "name": "python3"
  },
  "language_info": {
   "codemirror_mode": {
    "name": "ipython",
    "version": 3
   },
   "file_extension": ".py",
   "mimetype": "text/x-python",
   "name": "python",
   "nbconvert_exporter": "python",
   "pygments_lexer": "ipython3",
   "version": "3.10.5"
  }
 },
 "nbformat": 4,
 "nbformat_minor": 5
}
