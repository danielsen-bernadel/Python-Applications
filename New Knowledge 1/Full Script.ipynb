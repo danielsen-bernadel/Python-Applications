{
 "cells": [
  {
   "cell_type": "code",
   "execution_count": 1,
   "id": "4fde2406-0dd2-4434-b095-b048565986c3",
   "metadata": {},
   "outputs": [],
   "source": [
    "from pytz import timezone\n",
    "import matplotlib.pyplot as plt\n",
    "import pandas as pd\n",
    "import time\n",
    "import datetime as dt\n",
    "from datetime import datetime\n",
    "import MetaTrader5 as mt5\n",
    "import pandas as pd\n",
    "import pytz\n",
    "import talib\n",
    "import numpy"
   ]
  },
  {
   "cell_type": "code",
   "execution_count": 2,
   "id": "9b6a5da1-dc32-475c-afda-42cce0f4dbaf",
   "metadata": {},
   "outputs": [
    {
     "name": "stdin",
     "output_type": "stream",
     "text": [
      " EURUSD\n"
     ]
    }
   ],
   "source": [
    "# This will need to be updated as it should come directly from Currency Strength Script\n",
    "Symbol = input()"
   ]
  },
  {
   "cell_type": "code",
   "execution_count": 3,
   "id": "617e5794-c24f-4ba0-b48a-7961e4710378",
   "metadata": {},
   "outputs": [],
   "source": [
    "#This will need to be updated to take in the date and time from previous script\n",
    "if not mt5.initialize():\n",
    "        print(\"initialize() failed, error code =\",mt5.last_error())\n",
    "        quit()\n",
    "mt5.login()\n",
    "timezone = pytz.timezone(\"UTC\")\n",
    "now = datetime.now(timezone)\n",
    "start = datetime.now(timezone) - dt.timedelta(days=1)\n",
    "utc_from = datetime(start.year, start.month, start.day)\n",
    "utc_to = datetime(now.year, now.month, now.day, now.hour, now.minute, now.second)\n",
    "rates = mt5.copy_rates_range(Symbol, mt5.TIMEFRAME_M1, utc_from, utc_to)\n",
    "htf = pd.DataFrame(rates)\n",
    "htf['time']=pd.to_datetime(htf['time'], unit='s')\n",
    "start=time.time()\n",
    "lookback = 15\n",
    "# create DataFrame out of the obtained data\n",
    "currency_strength = pd.DataFrame()\n",
    "rsi_df=pd.DataFrame()"
   ]
  },
  {
   "cell_type": "code",
   "execution_count": 4,
   "id": "ca8903bd-2aad-4bef-9098-41a275e8e050",
   "metadata": {},
   "outputs": [],
   "source": [
    "currency_pair =[\"EURUSD\",\"EURGBP\",\"EURJPY\",\"EURAUD\",\"EURNZD\",\n",
    "\"EURCHF\",\"EURCAD\",\"GBPUSD\", \"GBPJPY\",\"GBPAUD\",\"GBPNZD\",\"GBPCAD\",\n",
    "\"GBPCHF\",\"USDCAD\", \"USDJPY\",\"CHFJPY\",\"CADJPY\",\"NZDJPY\",\"AUDJPY\",\n",
    "\"AUDNZD\",\"AUDCAD\", \"NZDUSD\",\"NZDCAD\",\"NZDCHF\",\"AUDCHF\",\"CADCHF\",\n",
    "\"AUDUSD\",\"USDCHF\"]\n",
    "\n",
    "for pair in currency_pair:\n",
    "    ohlc = mt5.copy_rates_from(pair,mt5.TIMEFRAME_D1, datetime.now(), lookback)\n",
    "    df = pd.DataFrame(ohlc)\n",
    "    rsi_df[pair]=talib.RSI(df.close,7)"
   ]
  },
  {
   "cell_type": "code",
   "execution_count": 5,
   "id": "fcd7e7a8-33c7-4091-a942-5f475a802fb2",
   "metadata": {},
   "outputs": [],
   "source": [
    "# Identifying Currency Strength\n",
    "rsi_df.tail()\n",
    "strength=pd.DataFrame()\n",
    "strength[\"USD\"]=1/7*((100-rsi_df.EURUSD)+(100-rsi_df.GBPUSD)+\\\n",
    "    rsi_df.USDCAD+rsi_df.USDJPY+(100-rsi_df.NZDUSD)+\\\n",
    "        (100-rsi_df.AUDUSD)+rsi_df.USDCHF)\n",
    "strength[\"EUR\"]=1/7*(rsi_df.EURUSD+rsi_df.EURGBP+\\\n",
    "    rsi_df.EURJPY+rsi_df.EURAUD+rsi_df.EURNZD+rsi_df.EURCHF+\\\n",
    "        rsi_df.EURCAD)\n",
    "strength[\"GBP\"]=1/7*(rsi_df.GBPUSD+rsi_df.GBPJPY+\\\n",
    "    rsi_df.GBPAUD+rsi_df.GBPNZD+rsi_df.GBPCAD+rsi_df.GBPCHF+\\\n",
    "        (100-rsi_df.EURGBP))\n",
    "strength[\"CHF\"]=1/7*((100-rsi_df.EURCHF)+(100-rsi_df.GBPCHF)+\\\n",
    "    (100-rsi_df.NZDCHF)+(100-rsi_df.AUDCHF)+(100-rsi_df.CADCHF)+\\\n",
    "        rsi_df.CHFJPY+(100-rsi_df.USDCHF))\n",
    "strength[\"JPY\"]=1/7*((100-rsi_df.EURJPY)+(100-rsi_df.GBPJPY)+\\\n",
    "    (100-rsi_df.USDJPY)+(100-rsi_df.CHFJPY)+(100-rsi_df.CADJPY)+\\\n",
    "        (100-rsi_df.NZDJPY)+(100-rsi_df.AUDJPY))\n",
    "strength[\"AUD\"]=1/7*((100-rsi_df.EURAUD)+(100-rsi_df.GBPAUD)+\\\n",
    "    (100-rsi_df.AUDJPY)+rsi_df.AUDNZD+rsi_df.AUDCAD+\n",
    "    rsi_df.AUDCHF+rsi_df.AUDUSD)\n",
    "strength[\"CAD\"]=1/7*((100-rsi_df.EURCAD)+(100-rsi_df.GBPCAD)+\\\n",
    "    (100-rsi_df.USDCAD)+rsi_df.CADJPY+(100-rsi_df.AUDCAD)+\\\n",
    "        (100-rsi_df.NZDCAD)+rsi_df.CADCHF)\n",
    "strength[\"NZD\"]=1/7*((100-rsi_df.EURNZD)+(100-rsi_df.GBPNZD)+\\\n",
    "    rsi_df.NZDJPY+rsi_df.NZDUSD+rsi_df.NZDCAD+rsi_df.NZDCHF+\\\n",
    "        (100-rsi_df.AUDNZD))"
   ]
  },
  {
   "cell_type": "code",
   "execution_count": 6,
   "id": "05c920a3-4c50-4734-a71d-71372eca32c9",
   "metadata": {},
   "outputs": [],
   "source": [
    "if strength['EUR'].loc[strength.index[-1]] > strength['USD'].loc[strength.index[-1]]:\n",
    "    EURUSD = 'Bullish'\n",
    "else:\n",
    "    EURUSD = 'Bearish'\n",
    "if strength['EUR'].loc[strength.index[-1]] > strength['GBP'].loc[strength.index[-1]]:\n",
    "    EURGBP = 'Bullish'\n",
    "else:\n",
    "    EURGBP = 'Bearish'\n",
    "if strength['EUR'].loc[strength.index[-1]] > strength['JPY'].loc[strength.index[-1]]:\n",
    "    EURJPY = 'Bullish'\n",
    "else:\n",
    "    EURJPY = 'Bearish'\n",
    "if strength['EUR'].loc[strength.index[-1]] > strength['AUD'].loc[strength.index[-1]]:\n",
    "    EURAUD = 'Bullish'\n",
    "else:\n",
    "    EURAUD = 'Bearish'\n",
    "if strength['EUR'].loc[strength.index[-1]] > strength['NZD'].loc[strength.index[-1]]:\n",
    "    EURNZD = 'Bullish'\n",
    "else:\n",
    "    EURNZD = 'Bearish'\n",
    "if strength['EUR'].loc[strength.index[-1]] > strength['CHF'].loc[strength.index[-1]]:\n",
    "    EURCHF = 'Bullish'\n",
    "else:\n",
    "    EURCHF = 'Bearish'\n",
    "if strength['EUR'].loc[strength.index[-1]] > strength['CAD'].loc[strength.index[-1]]:\n",
    "    EURCAD = 'Bullish'\n",
    "else:\n",
    "    EURCAD = 'Bearish'"
   ]
  },
  {
   "cell_type": "code",
   "execution_count": 7,
   "id": "8b32b93e-7ee4-44b3-8daf-73b3419c6bcd",
   "metadata": {},
   "outputs": [],
   "source": [
    "if strength['GBP'].loc[strength.index[-1]] > strength['USD'].loc[strength.index[-1]]:\n",
    "    GBPUSD = 'Bullish'\n",
    "else:\n",
    "    GBPUSD = 'Bearish'\n",
    "if strength['GBP'].loc[strength.index[-1]] > strength['JPY'].loc[strength.index[-1]]:\n",
    "    GBPJPY = 'Bullish'\n",
    "else:\n",
    "    GBPJPY = 'Bearish'\n",
    "if strength['GBP'].loc[strength.index[-1]] > strength['AUD'].loc[strength.index[-1]]:\n",
    "    GBPAUD = 'Bullish'\n",
    "else:\n",
    "    GBPAUD = 'Bearish'\n",
    "if strength['GBP'].loc[strength.index[-1]] > strength['NZD'].loc[strength.index[-1]]:\n",
    "    GBPNZD = 'Bullish'\n",
    "else:\n",
    "    GBPNZD = 'Bearish'\n",
    "if strength['GBP'].loc[strength.index[-1]] > strength['CHF'].loc[strength.index[-1]]:\n",
    "    GBPCHF = 'Bullish'\n",
    "else:\n",
    "    GBPCHF = 'Bearish'\n",
    "if strength['GBP'].loc[strength.index[-1]] > strength['CAD'].loc[strength.index[-1]]:\n",
    "    GBPCAD = 'Bullish'\n",
    "else:\n",
    "    GBPCAD = 'Bearish'"
   ]
  },
  {
   "cell_type": "code",
   "execution_count": 8,
   "id": "b6d5f5a1-0a81-47f3-b8b9-1d57eee71924",
   "metadata": {},
   "outputs": [],
   "source": [
    "if strength['USD'].loc[strength.index[-1]] > strength['CAD'].loc[strength.index[-1]]:\n",
    "    USDCAD = 'Bullish'\n",
    "else:\n",
    "    USDCAD = 'Bearish'\n",
    "if strength['USD'].loc[strength.index[-1]] > strength['JPY'].loc[strength.index[-1]]:\n",
    "    USDJPY = 'Bullish'\n",
    "else:\n",
    "    USDJPY = 'Bearish'\n",
    "if strength['USD'].loc[strength.index[-1]] > strength['CHF'].loc[strength.index[-1]]:\n",
    "    USDCHF = 'Bullish'\n",
    "else:\n",
    "    USDCHF = 'Bearish'"
   ]
  },
  {
   "cell_type": "code",
   "execution_count": 9,
   "id": "72e01eed-66cf-4e62-9783-29dc5b45a0ce",
   "metadata": {},
   "outputs": [],
   "source": [
    "if strength['CAD'].loc[strength.index[-1]] > strength['JPY'].loc[strength.index[-1]]:\n",
    "    CADJPY = 'Bullish'\n",
    "else:\n",
    "    CADJPY = 'Bearish'\n",
    "if strength['CHF'].loc[strength.index[-1]] > strength['JPY'].loc[strength.index[-1]]:\n",
    "    CHFJPY = 'Bullish'\n",
    "else:\n",
    "    CHFJPY = 'Bearish'\n",
    "if strength['NZD'].loc[strength.index[-1]] > strength['JPY'].loc[strength.index[-1]]:\n",
    "    NZDJPY = 'Bullish'\n",
    "else:\n",
    "    NZDJPY = 'Bearish'\n",
    "if strength['AUD'].loc[strength.index[-1]] > strength['JPY'].loc[strength.index[-1]]:\n",
    "    AUDJPY = 'Bullish'\n",
    "else:\n",
    "    AUDJPY = 'Bearish'\n",
    "if strength['AUD'].loc[strength.index[-1]] > strength['NZD'].loc[strength.index[-1]]:\n",
    "    AUDNZD = 'Bullish'\n",
    "else:\n",
    "    AUDNZD = 'Bearish'\n",
    "if strength['AUD'].loc[strength.index[-1]] > strength['CAD'].loc[strength.index[-1]]:\n",
    "    AUDCAD = 'Bullish'\n",
    "else:\n",
    "    AUDCAD = 'Bearish'"
   ]
  },
  {
   "cell_type": "code",
   "execution_count": 10,
   "id": "5f7c7dd6-324a-4281-a5b4-53044bc68498",
   "metadata": {},
   "outputs": [],
   "source": [
    "if strength['NZD'].loc[strength.index[-1]] > strength['USD'].loc[strength.index[-1]]:\n",
    "    NZDUSD = 'Bullish'\n",
    "else:\n",
    "    NZDUSD = 'Bearish'\n",
    "if strength['NZD'].loc[strength.index[-1]] > strength['CHF'].loc[strength.index[-1]]:\n",
    "    NZDCHF = 'Bullish'\n",
    "else:\n",
    "    NZDCHF = 'Bearish'\n",
    "if strength['NZD'].loc[strength.index[-1]] > strength['CAD'].loc[strength.index[-1]]:\n",
    "    NZDCAD = 'Bullish'\n",
    "else:\n",
    "    NZDCAD = 'Bearish'"
   ]
  },
  {
   "cell_type": "code",
   "execution_count": 11,
   "id": "13d23bd6-2692-4c1c-abf3-b26ab4dfe36c",
   "metadata": {},
   "outputs": [],
   "source": [
    "if strength['AUD'].loc[strength.index[-1]] > strength['USD'].loc[strength.index[-1]]:\n",
    "    AUDUSD = 'Bullish'\n",
    "else:\n",
    "    AUDUSD = 'Bearish'\n",
    "if strength['AUD'].loc[strength.index[-1]] > strength['CHF'].loc[strength.index[-1]]:\n",
    "    AUDCHF = 'Bullish'\n",
    "else:\n",
    "    AUDCHF = 'Bearish'\n",
    "if strength['CAD'].loc[strength.index[-1]] > strength['CHF'].loc[strength.index[-1]]:\n",
    "    CADCHF = 'Bullish'\n",
    "else:\n",
    "    CADCHF = 'Bearish'"
   ]
  },
  {
   "cell_type": "code",
   "execution_count": 12,
   "id": "bcdc7b4b-0a29-42e0-8e4b-789d26149971",
   "metadata": {},
   "outputs": [],
   "source": [
    "MS = eval(Symbol)\n",
    "rates = mt5.copy_rates_range(Symbol, mt5.TIMEFRAME_M15, utc_from, utc_to)\n",
    "htf = pd.DataFrame(rates)\n",
    "htf['time']=pd.to_datetime(htf['time'], unit='s')"
   ]
  },
  {
   "cell_type": "code",
   "execution_count": 13,
   "id": "c31a5040-f1d6-422c-9a41-acae3f18f5f4",
   "metadata": {},
   "outputs": [],
   "source": [
    "# Identifying Market Shift\n",
    "for i in range(2,htf.shape[0]):\n",
    "    current = htf.iloc[i,:]\n",
    "    prev = htf.iloc[i-1,:]\n",
    "    prev_2 = htf.iloc[i-2,:]\n",
    "    realbody = abs(current['open'] - current['close'])\n",
    "    candle_range = current['high'] - current['low']\n",
    "    idx = htf.index[i]\n",
    "    htf.loc[idx,'Bullish swing'] = current['low'] > prev['low'] and prev['low'] < prev_2['low']\n",
    "    htf.loc[idx,'Bearish swing'] = current['high'] < prev['high'] and prev['high'] > prev_2['high']\n",
    "    #Finding the Bullish Market Shift\n",
    "    if htf.loc[idx,'Bullish swing'] == True:\n",
    "        htf.loc[idx,'Bull1'] = htf['low'].loc[htf.index[i-1]]\n",
    "        Bull1 = htf.loc[htf.index[i-1]]\n",
    "    if htf.loc[idx,'Bearish swing'] == True and Bull1['time'] < htf.loc[idx,'time']:\n",
    "        htf.loc[idx,'Bull2'] = htf['high'].loc[htf.index[i-1]]\n",
    "        Bull2 = htf.loc[htf.index[i-1]]\n",
    "    if htf.loc[idx,'Bullish swing'] == True and Bull1['time'] < htf.loc[idx,'time']:\n",
    "        htf.loc[idx,'Bull3'] = htf['low'].loc[htf.index[i-1]]\n",
    "        Bull3 = htf.loc[htf.index[i-1]]\n",
    "    #Finding the Bearish Market Shift\n",
    "    if htf.loc[idx,'Bearish swing'] == True:\n",
    "        htf.loc[idx,'Bear1'] = htf['high'].loc[htf.index[i-1]]\n",
    "        Bear1 = htf.loc[htf.index[i-1]]\n",
    "    if htf.loc[idx,'Bearish swing'] == True and Bear1['time'] < htf.loc[idx,'time']:\n",
    "        htf.loc[idx,'Bear2'] = htf['low'].loc[htf.index[i-1]]\n",
    "        Bear2 = htf.loc[htf.index[i-1]]\n",
    "    if htf.loc[idx,'Bearish swing'] == True and Bear1['time'] < htf.loc[idx,'time']:\n",
    "        htf.loc[idx,'Bear3'] = htf['high'].loc[htf.index[i-1]]\n",
    "        Bear3 = htf.loc[htf.index[i-1]]"
   ]
  },
  {
   "cell_type": "code",
   "execution_count": 14,
   "id": "be3454bb-19d8-453c-b256-3b1dec0ec887",
   "metadata": {},
   "outputs": [
    {
     "name": "stdout",
     "output_type": "stream",
     "text": [
      "No Pattern Found!\n"
     ]
    }
   ],
   "source": [
    "if MS == 'Bullish':\n",
    "    if htf.loc[idx,'Bullish swing'] == True:\n",
    "        bull_low1 = Bull1['low']\n",
    "    if Bull1['time'] < Bull2['time']:\n",
    "        bull_high = Bull2['high']\n",
    "        bulldis_high = bull_high\n",
    "    if Bull2['time'] < Bull3['time'] == True:\n",
    "        bull_low2 = Bull3['low']\n",
    "        bulldis_low = bull_low2\n",
    "    if Bull1['low'] > Bull3['low']:\n",
    "        start_time = Bull1['time']\n",
    "        end_time = Bull3['time']\n",
    "        print ('Start time is:',start_time)\n",
    "        print ('End time is:',end_time)\n",
    "        print ('Price Entry Zone is from', bulldis_low, 'to', bulldis_high)\n",
    "    else:\n",
    "        print (\"No Pattern Found!\")\n",
    "else:\n",
    "    if htf.loc[idx,'Bearish swing'] == True:\n",
    "        Bear_low1 = Bear1['high']\n",
    "    if Bull1['time'] < Bear2['time']:\n",
    "        Bear_high = Bear2['low']\n",
    "        beardis_high = Bear_high\n",
    "    if Bear2['time'] < Bear3['time'] == True:\n",
    "        Bear_low2 = Bear3['high']\n",
    "        beardis_low = Bear_low2\n",
    "    if Bear1['low'] > Bear3['low']:\n",
    "        start_time = Bear1['high']\n",
    "        end_time = Bear3['time']\n",
    "        print ('Start time is:',start_time)\n",
    "        print ('End time is:',end_time)\n",
    "        print ('Price Entry Zone is from', beardis_low, 'to', beardis_high)\n",
    "    else:\n",
    "        print (\"No Pattern Found!\")"
   ]
  },
  {
   "cell_type": "code",
   "execution_count": 19,
   "id": "f92c096a-ae05-47e0-9213-9fab8e8c737d",
   "metadata": {},
   "outputs": [
    {
     "ename": "KeyError",
     "evalue": "'Bullish FVG'",
     "output_type": "error",
     "traceback": [
      "\u001b[1;31m---------------------------------------------------------------------------\u001b[0m",
      "\u001b[1;31mKeyError\u001b[0m                                  Traceback (most recent call last)",
      "File \u001b[1;32m~\\AppData\\Local\\Programs\\Python\\Python310\\lib\\site-packages\\pandas\\core\\indexes\\base.py:3621\u001b[0m, in \u001b[0;36mIndex.get_loc\u001b[1;34m(self, key, method, tolerance)\u001b[0m\n\u001b[0;32m   3620\u001b[0m \u001b[38;5;28;01mtry\u001b[39;00m:\n\u001b[1;32m-> 3621\u001b[0m     \u001b[38;5;28;01mreturn\u001b[39;00m \u001b[38;5;28;43mself\u001b[39;49m\u001b[38;5;241;43m.\u001b[39;49m\u001b[43m_engine\u001b[49m\u001b[38;5;241;43m.\u001b[39;49m\u001b[43mget_loc\u001b[49m\u001b[43m(\u001b[49m\u001b[43mcasted_key\u001b[49m\u001b[43m)\u001b[49m\n\u001b[0;32m   3622\u001b[0m \u001b[38;5;28;01mexcept\u001b[39;00m \u001b[38;5;167;01mKeyError\u001b[39;00m \u001b[38;5;28;01mas\u001b[39;00m err:\n",
      "File \u001b[1;32m~\\AppData\\Local\\Programs\\Python\\Python310\\lib\\site-packages\\pandas\\_libs\\index.pyx:136\u001b[0m, in \u001b[0;36mpandas._libs.index.IndexEngine.get_loc\u001b[1;34m()\u001b[0m\n",
      "File \u001b[1;32m~\\AppData\\Local\\Programs\\Python\\Python310\\lib\\site-packages\\pandas\\_libs\\index.pyx:163\u001b[0m, in \u001b[0;36mpandas._libs.index.IndexEngine.get_loc\u001b[1;34m()\u001b[0m\n",
      "File \u001b[1;32mpandas\\_libs\\hashtable_class_helper.pxi:5198\u001b[0m, in \u001b[0;36mpandas._libs.hashtable.PyObjectHashTable.get_item\u001b[1;34m()\u001b[0m\n",
      "File \u001b[1;32mpandas\\_libs\\hashtable_class_helper.pxi:5206\u001b[0m, in \u001b[0;36mpandas._libs.hashtable.PyObjectHashTable.get_item\u001b[1;34m()\u001b[0m\n",
      "\u001b[1;31mKeyError\u001b[0m: 'Bullish FVG'",
      "\nThe above exception was the direct cause of the following exception:\n",
      "\u001b[1;31mKeyError\u001b[0m                                  Traceback (most recent call last)",
      "Input \u001b[1;32mIn [19]\u001b[0m, in \u001b[0;36m<cell line: 5>\u001b[1;34m()\u001b[0m\n\u001b[0;32m     13\u001b[0m htf\u001b[38;5;241m.\u001b[39mloc[idx,\u001b[38;5;124m'\u001b[39m\u001b[38;5;124mBullish FVG\u001b[39m\u001b[38;5;124m'\u001b[39m] \u001b[38;5;241m=\u001b[39m curr[\u001b[38;5;124m'\u001b[39m\u001b[38;5;124mlow\u001b[39m\u001b[38;5;124m'\u001b[39m] \u001b[38;5;241m>\u001b[39m pre_2[\u001b[38;5;124m'\u001b[39m\u001b[38;5;124mhigh\u001b[39m\u001b[38;5;124m'\u001b[39m] \u001b[38;5;129;01mand\u001b[39;00m curr[\u001b[38;5;124m'\u001b[39m\u001b[38;5;124mhigh\u001b[39m\u001b[38;5;124m'\u001b[39m] \u001b[38;5;241m>\u001b[39m pre[\u001b[38;5;124m'\u001b[39m\u001b[38;5;124mhigh\u001b[39m\u001b[38;5;124m'\u001b[39m] \u001b[38;5;129;01mand\u001b[39;00m pre[\u001b[38;5;124m'\u001b[39m\u001b[38;5;124mhigh\u001b[39m\u001b[38;5;124m'\u001b[39m] \u001b[38;5;241m>\u001b[39m pre_2[\u001b[38;5;124m'\u001b[39m\u001b[38;5;124mhigh\u001b[39m\u001b[38;5;124m'\u001b[39m]\n\u001b[0;32m     14\u001b[0m htf\u001b[38;5;241m.\u001b[39mloc[idx,\u001b[38;5;124m'\u001b[39m\u001b[38;5;124mBearish FVG\u001b[39m\u001b[38;5;124m'\u001b[39m] \u001b[38;5;241m=\u001b[39m curr[\u001b[38;5;124m'\u001b[39m\u001b[38;5;124mhigh\u001b[39m\u001b[38;5;124m'\u001b[39m] \u001b[38;5;241m<\u001b[39m pre_2[\u001b[38;5;124m'\u001b[39m\u001b[38;5;124mlow\u001b[39m\u001b[38;5;124m'\u001b[39m] \u001b[38;5;129;01mand\u001b[39;00m curr[\u001b[38;5;124m'\u001b[39m\u001b[38;5;124mlow\u001b[39m\u001b[38;5;124m'\u001b[39m] \u001b[38;5;241m<\u001b[39m pre[\u001b[38;5;124m'\u001b[39m\u001b[38;5;124mlow\u001b[39m\u001b[38;5;124m'\u001b[39m] \u001b[38;5;129;01mand\u001b[39;00m pre[\u001b[38;5;124m'\u001b[39m\u001b[38;5;124mlow\u001b[39m\u001b[38;5;124m'\u001b[39m] \u001b[38;5;241m<\u001b[39m pre_2[\u001b[38;5;124m'\u001b[39m\u001b[38;5;124mlow\u001b[39m\u001b[38;5;124m'\u001b[39m]\n\u001b[1;32m---> 15\u001b[0m \u001b[38;5;28;01mif\u001b[39;00m \u001b[43mcurr\u001b[49m\u001b[43m[\u001b[49m\u001b[38;5;124;43m'\u001b[39;49m\u001b[38;5;124;43mBullish FVG\u001b[39;49m\u001b[38;5;124;43m'\u001b[39;49m\u001b[43m]\u001b[49m \u001b[38;5;241m==\u001b[39m \u001b[38;5;28;01mTrue\u001b[39;00m:\n\u001b[0;32m     16\u001b[0m     htf\u001b[38;5;241m.\u001b[39mloc[idx,\u001b[38;5;124m'\u001b[39m\u001b[38;5;124mPEP\u001b[39m\u001b[38;5;124m'\u001b[39m] \u001b[38;5;241m=\u001b[39m htf\u001b[38;5;241m.\u001b[39mloc[idx, \u001b[38;5;124m'\u001b[39m\u001b[38;5;124mlow\u001b[39m\u001b[38;5;124m'\u001b[39m]\n\u001b[0;32m     17\u001b[0m     Bull_PEP\u001b[38;5;241m=\u001b[39m htf\u001b[38;5;241m.\u001b[39mloc[idx, \u001b[38;5;124m'\u001b[39m\u001b[38;5;124mlow\u001b[39m\u001b[38;5;124m'\u001b[39m]\n",
      "File \u001b[1;32m~\\AppData\\Local\\Programs\\Python\\Python310\\lib\\site-packages\\pandas\\core\\series.py:958\u001b[0m, in \u001b[0;36mSeries.__getitem__\u001b[1;34m(self, key)\u001b[0m\n\u001b[0;32m    955\u001b[0m     \u001b[38;5;28;01mreturn\u001b[39;00m \u001b[38;5;28mself\u001b[39m\u001b[38;5;241m.\u001b[39m_values[key]\n\u001b[0;32m    957\u001b[0m \u001b[38;5;28;01melif\u001b[39;00m key_is_scalar:\n\u001b[1;32m--> 958\u001b[0m     \u001b[38;5;28;01mreturn\u001b[39;00m \u001b[38;5;28;43mself\u001b[39;49m\u001b[38;5;241;43m.\u001b[39;49m\u001b[43m_get_value\u001b[49m\u001b[43m(\u001b[49m\u001b[43mkey\u001b[49m\u001b[43m)\u001b[49m\n\u001b[0;32m    960\u001b[0m \u001b[38;5;28;01mif\u001b[39;00m is_hashable(key):\n\u001b[0;32m    961\u001b[0m     \u001b[38;5;66;03m# Otherwise index.get_value will raise InvalidIndexError\u001b[39;00m\n\u001b[0;32m    962\u001b[0m     \u001b[38;5;28;01mtry\u001b[39;00m:\n\u001b[0;32m    963\u001b[0m         \u001b[38;5;66;03m# For labels that don't resolve as scalars like tuples and frozensets\u001b[39;00m\n",
      "File \u001b[1;32m~\\AppData\\Local\\Programs\\Python\\Python310\\lib\\site-packages\\pandas\\core\\series.py:1069\u001b[0m, in \u001b[0;36mSeries._get_value\u001b[1;34m(self, label, takeable)\u001b[0m\n\u001b[0;32m   1066\u001b[0m     \u001b[38;5;28;01mreturn\u001b[39;00m \u001b[38;5;28mself\u001b[39m\u001b[38;5;241m.\u001b[39m_values[label]\n\u001b[0;32m   1068\u001b[0m \u001b[38;5;66;03m# Similar to Index.get_value, but we do not fall back to positional\u001b[39;00m\n\u001b[1;32m-> 1069\u001b[0m loc \u001b[38;5;241m=\u001b[39m \u001b[38;5;28;43mself\u001b[39;49m\u001b[38;5;241;43m.\u001b[39;49m\u001b[43mindex\u001b[49m\u001b[38;5;241;43m.\u001b[39;49m\u001b[43mget_loc\u001b[49m\u001b[43m(\u001b[49m\u001b[43mlabel\u001b[49m\u001b[43m)\u001b[49m\n\u001b[0;32m   1070\u001b[0m \u001b[38;5;28;01mreturn\u001b[39;00m \u001b[38;5;28mself\u001b[39m\u001b[38;5;241m.\u001b[39mindex\u001b[38;5;241m.\u001b[39m_get_values_for_loc(\u001b[38;5;28mself\u001b[39m, loc, label)\n",
      "File \u001b[1;32m~\\AppData\\Local\\Programs\\Python\\Python310\\lib\\site-packages\\pandas\\core\\indexes\\base.py:3623\u001b[0m, in \u001b[0;36mIndex.get_loc\u001b[1;34m(self, key, method, tolerance)\u001b[0m\n\u001b[0;32m   3621\u001b[0m     \u001b[38;5;28;01mreturn\u001b[39;00m \u001b[38;5;28mself\u001b[39m\u001b[38;5;241m.\u001b[39m_engine\u001b[38;5;241m.\u001b[39mget_loc(casted_key)\n\u001b[0;32m   3622\u001b[0m \u001b[38;5;28;01mexcept\u001b[39;00m \u001b[38;5;167;01mKeyError\u001b[39;00m \u001b[38;5;28;01mas\u001b[39;00m err:\n\u001b[1;32m-> 3623\u001b[0m     \u001b[38;5;28;01mraise\u001b[39;00m \u001b[38;5;167;01mKeyError\u001b[39;00m(key) \u001b[38;5;28;01mfrom\u001b[39;00m \u001b[38;5;21;01merr\u001b[39;00m\n\u001b[0;32m   3624\u001b[0m \u001b[38;5;28;01mexcept\u001b[39;00m \u001b[38;5;167;01mTypeError\u001b[39;00m:\n\u001b[0;32m   3625\u001b[0m     \u001b[38;5;66;03m# If we have a listlike key, _check_indexing_error will raise\u001b[39;00m\n\u001b[0;32m   3626\u001b[0m     \u001b[38;5;66;03m#  InvalidIndexError. Otherwise we fall through and re-raise\u001b[39;00m\n\u001b[0;32m   3627\u001b[0m     \u001b[38;5;66;03m#  the TypeError.\u001b[39;00m\n\u001b[0;32m   3628\u001b[0m     \u001b[38;5;28mself\u001b[39m\u001b[38;5;241m.\u001b[39m_check_indexing_error(key)\n",
      "\u001b[1;31mKeyError\u001b[0m: 'Bullish FVG'"
     ]
    }
   ],
   "source": [
    "# Identifying Fair Value Gap\n",
    "rates = mt5.copy_rates_range(Symbol, mt5.TIMEFRAME_M1, utc_from, utc_to)\n",
    "htf = pd.DataFrame(rates)\n",
    "htf['time']=pd.to_datetime(htf['time'], unit='s')\n",
    "for i in range(2,htf.shape[0]):\n",
    "    curr = htf.iloc[i,:]\n",
    "    pre = htf.iloc[i-1,:]\n",
    "    pre_2 = htf.iloc[i-2,:]\n",
    "    pre_3 = htf.iloc[i-3,:]\n",
    "    realbody = abs(curr['open'] - curr['close'])\n",
    "    candle_range = curr['high'] - curr['low']\n",
    "    idx = htf.index[i]\n",
    "    htf.loc[idx,'Bullish FVG'] = curr['low'] > pre_2['high'] and curr['high'] > pre['high'] and pre['high'] > pre_2['high']\n",
    "    htf.loc[idx,'Bearish FVG'] = curr['high'] < pre_2['low'] and curr['low'] < pre['low'] and pre['low'] < pre_2['low']\n",
    "    if curr['Bullish FVG'] == True:\n",
    "        htf.loc[idx,'PEP'] = htf.loc[idx, 'low']\n",
    "        Bull_PEP= htf.loc[idx, 'low']\n",
    "    elif curr['Bearish FVG'] == True:\n",
    "        htf.loc[idx,'PEP'] = htf.loc[idx, 'high']\n",
    "        Bear_PEP= htf.loc[idx, 'high']"
   ]
  },
  {
   "cell_type": "code",
   "execution_count": null,
   "id": "3ad6f852-9340-45dc-b43f-1f32caa07bb5",
   "metadata": {},
   "outputs": [],
   "source": [
    "if MS == 'Bullish':\n",
    "    print(Bull_PEP)\n",
    "elif MS == 'Bearish':\n",
    "    print(Bear_PEP)"
   ]
  },
  {
   "cell_type": "code",
   "execution_count": null,
   "id": "3ff8c141-7bee-4ae0-956a-2e1ff26eba32",
   "metadata": {},
   "outputs": [],
   "source": []
  }
 ],
 "metadata": {
  "kernelspec": {
   "display_name": "Python 3 (ipykernel)",
   "language": "python",
   "name": "python3"
  },
  "language_info": {
   "codemirror_mode": {
    "name": "ipython",
    "version": 3
   },
   "file_extension": ".py",
   "mimetype": "text/x-python",
   "name": "python",
   "nbconvert_exporter": "python",
   "pygments_lexer": "ipython3",
   "version": "3.10.5"
  }
 },
 "nbformat": 4,
 "nbformat_minor": 5
}
