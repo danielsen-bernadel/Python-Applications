{
 "cells": [
  {
   "cell_type": "code",
   "execution_count": 8,
   "id": "3c1f73be-6e45-4c44-b7dc-138bfe2bc18a",
   "metadata": {},
   "outputs": [],
   "source": [
    "#Import Necessary Libraries\n",
    "from pytz import timezone\n",
    "import matplotlib.pyplot as plt\n",
    "import pandas as pd\n",
    "import time\n",
    "import datetime as dt\n",
    "from datetime import datetime, timedelta\n",
    "import MetaTrader5 as mt5\n",
    "import pytz\n",
    "import talib\n",
    "import numpy\n",
    "import schedule"
   ]
  },
  {
   "cell_type": "code",
   "execution_count": 1,
   "id": "45f04771-48a5-41b8-9f1a-5cfbf1f76db2",
   "metadata": {},
   "outputs": [],
   "source": [
    "def get_order_history(date_from, date_to):\n",
    "    res = mt5.history_deals_get(date_from, date_to)\n",
    "    \n",
    "    if(res is not None and res != ()):\n",
    "        df = pd.DataFrame(list(res),columns=res[0]._asdict().keys())\n",
    "        df['time'] = pd.to_datetime(df['time'], unit='s')\n",
    "        return df\n",
    "    \n",
    "    return pd.DataFrame()"
   ]
  },
  {
   "cell_type": "code",
   "execution_count": 2,
   "id": "860bfb0f-8a14-4771-b3d2-ace54e8d4643",
   "metadata": {},
   "outputs": [],
   "source": [
    "def calc_daily_lost_trades():\n",
    "    now = datetime.now().astimezone(pytz.timezone('UTC'))\n",
    "    now = datetime(now.year, now.month, now.day, hour=now.hour, minute=now.minute)\n",
    "    midnight = now.replace(hour=0, minute=0, second=0, microsecond=0)\n",
    "    res = get_order_history(midnight, now)\n",
    "\n",
    "    if(res.empty):\n",
    "        return 0\n",
    "    else:\n",
    "        lost_trade_count = 0\n",
    "        for i, row in res.iterrows():\n",
    "            profit = float(row['profit'])\n",
    "            if(profit < 0):\n",
    "                lost_trade_count = lost_trade_count + 1\n",
    "        return lost_trade_count"
   ]
  },
  {
   "cell_type": "code",
   "execution_count": 4,
   "id": "4a7c9041-afc4-4a41-91a8-6f7d349cac1c",
   "metadata": {},
   "outputs": [],
   "source": [
    "def get_account_info():\n",
    "    res = mt5.account_info()\n",
    "    return res"
   ]
  },
  {
   "cell_type": "code",
   "execution_count": 6,
   "id": "01757b4c-88f1-452c-8cb6-e961492b0466",
   "metadata": {},
   "outputs": [],
   "source": [
    "def get_daily_trade_data():\n",
    "    now = datetime.now().astimezone(pytz.timezone('UTC'))\n",
    "    now = datetime(now.year, now.month, now.day, hour=now.hour, minute=now.minute)\n",
    "    yesterday = now - timedelta(hours=24)\n",
    "    res = get_order_history(yesterday, now)\n",
    "    return res"
   ]
  },
  {
   "cell_type": "code",
   "execution_count": 9,
   "id": "88fa1c43-1cd4-4e0d-96cf-2d3e60187277",
   "metadata": {},
   "outputs": [
    {
     "data": {
      "text/html": [
       "<div>\n",
       "<style scoped>\n",
       "    .dataframe tbody tr th:only-of-type {\n",
       "        vertical-align: middle;\n",
       "    }\n",
       "\n",
       "    .dataframe tbody tr th {\n",
       "        vertical-align: top;\n",
       "    }\n",
       "\n",
       "    .dataframe thead th {\n",
       "        text-align: right;\n",
       "    }\n",
       "</style>\n",
       "<table border=\"1\" class=\"dataframe\">\n",
       "  <thead>\n",
       "    <tr style=\"text-align: right;\">\n",
       "      <th></th>\n",
       "    </tr>\n",
       "  </thead>\n",
       "  <tbody>\n",
       "  </tbody>\n",
       "</table>\n",
       "</div>"
      ],
      "text/plain": [
       "Empty DataFrame\n",
       "Columns: []\n",
       "Index: []"
      ]
     },
     "execution_count": 9,
     "metadata": {},
     "output_type": "execute_result"
    }
   ],
   "source": [
    "get_daily_trade_data()"
   ]
  },
  {
   "cell_type": "code",
   "execution_count": null,
   "id": "5bfa0665-05c6-4885-b668-c0a63cba2678",
   "metadata": {},
   "outputs": [],
   "source": []
  }
 ],
 "metadata": {
  "kernelspec": {
   "display_name": "Python 3 (ipykernel)",
   "language": "python",
   "name": "python3"
  },
  "language_info": {
   "codemirror_mode": {
    "name": "ipython",
    "version": 3
   },
   "file_extension": ".py",
   "mimetype": "text/x-python",
   "name": "python",
   "nbconvert_exporter": "python",
   "pygments_lexer": "ipython3",
   "version": "3.10.5"
  }
 },
 "nbformat": 4,
 "nbformat_minor": 5
}
