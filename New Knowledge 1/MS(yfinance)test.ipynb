{
 "cells": [
  {
   "cell_type": "code",
   "execution_count": 1,
   "id": "3388285e-bdbb-4081-9738-989ecfd5e609",
   "metadata": {},
   "outputs": [],
   "source": [
    "from pytz import timezone\n",
    "import matplotlib.pyplot as plt\n",
    "import pandas as pd\n",
    "import time\n",
    "import datetime as dt\n",
    "from datetime import datetime\n",
    "import yfinance as yf\n",
    "import pandas as pd\n",
    "import pytz\n",
    "import plotly.graph_objects as go\n",
    "import pandas_datareader as pdr\n",
    "import MetaTrader5 as mt5\n",
    "\n",
    "utc_tz = timezone('UTC')\n",
    "pd.set_option('display.max_columns', 500) # number of columns to be displayed\n",
    "pd.set_option('display.width', 1500)      # max table width to display"
   ]
  },
  {
   "cell_type": "code",
   "execution_count": 2,
   "id": "082487ff-fbad-4461-915d-0b3f3aac07b6",
   "metadata": {},
   "outputs": [],
   "source": [
    "MS = 'Bearish'\n",
    "Symbol = 'EURCAD'"
   ]
  },
  {
   "cell_type": "code",
   "execution_count": 3,
   "id": "dbba5723-1b77-4be9-bb65-df2997551668",
   "metadata": {},
   "outputs": [],
   "source": [
    "#Access MT5 package and Initialize the system (Generalized to be inluded in all scripts)\n",
    "if not mt5.initialize():\n",
    "        print(\"initialize() failed, error code =\",mt5.last_error())\n",
    "        quit()\n",
    "mt5.login()\n",
    "#Set parameters for time\n",
    "timezone = pytz.timezone(\"UTC\")\n",
    "now = datetime.now(timezone)\n",
    "start = datetime.now(timezone) - dt.timedelta(days=1)\n",
    "utc_from = datetime(start.year, start.month, start.day)\n",
    "utc_to = datetime(now.year, now.month, now.day, now.hour, now.minute, now.second)\n",
    "#Pull price data from MT5\n",
    "rates = mt5.copy_rates_range(Symbol, mt5.TIMEFRAME_M15, utc_from, utc_to)\n",
    "#Format Data in Pandas DataFrames to be manipulated\n",
    "htf = pd.DataFrame(rates)\n",
    "htf['time']=pd.to_datetime(htf['time'], unit='s')"
   ]
  },
  {
   "cell_type": "code",
   "execution_count": 4,
   "id": "6cf58563-efa4-4c55-8abc-cf42a0cdd64a",
   "metadata": {},
   "outputs": [],
   "source": [
    "#htf.tail()"
   ]
  },
  {
   "cell_type": "code",
   "execution_count": 20,
   "id": "631c5d9a-32af-47b0-b893-d5d8ecda9829",
   "metadata": {},
   "outputs": [],
   "source": [
    "for i in range(2,htf.shape[0]):\n",
    "    current = htf.iloc[i,:]\n",
    "    prev = htf.iloc[i-1,:]\n",
    "    prev_2 = htf.iloc[i-2,:]\n",
    "    realbody = abs(current['open'] - current['close'])\n",
    "    candle_range = current['high'] - current['low']\n",
    "    idx = htf.index[i]\n",
    "    htf.loc[idx,'Bullish swing'] = current['low'] > prev['low'] and prev['low'] < prev_2['low']\n",
    "    htf.loc[idx,'Bearish swing'] = current['high'] < prev['high'] and prev['high'] > prev_2['high']\n",
    "    #Finding the Bullish Market Shift\n",
    "    if htf.loc[idx,'Bullish swing'] == True:\n",
    "        htf.loc[idx,'Bull1'] = htf['low'].loc[htf.index[i-1]]\n",
    "        Bull1 = htf.loc[htf.index[i-1]]\n",
    "    if htf.loc[idx,'Bearish swing'] == True and Bull1['time'] < htf.loc[idx,'time']:\n",
    "        htf.loc[idx,'Bull2'] = htf['high'].loc[htf.index[i-1]]\n",
    "        Bull2 = htf.loc[htf.index[i-1]]\n",
    "    if htf.loc[idx,'Bullish swing'] == True and Bull1['time'] < htf.loc[idx,'time']:\n",
    "        htf.loc[idx,'Bull3'] = htf['low'].loc[htf.index[i-1]]\n",
    "        Bull3 = htf.loc[htf.index[i-1]]\n",
    "    #Finding the Bearish Market Shift\n",
    "    if htf.loc[idx,'Bearish swing'] == True:\n",
    "        htf.loc[idx,'Bear1'] = htf['high'].loc[htf.index[i-1]]\n",
    "        Bear1 = htf.loc[htf.index[i-1]]\n",
    "    if htf.loc[idx,'Bearish swing'] == True and Bear1['time'] < htf.loc[idx,'time']:\n",
    "        htf.loc[idx,'Bear2'] = htf['low'].loc[htf.index[i-1]]\n",
    "        Bear2 = htf.loc[htf.index[i-1]]\n",
    "    if htf.loc[idx,'Bearish swing'] == True and Bear1['time'] < htf.loc[idx,'time']:\n",
    "        htf.loc[idx,'Bear3'] = htf['high'].loc[htf.index[i-1]]\n",
    "        Bear3 = htf.loc[htf.index[i-1]]"
   ]
  },
  {
   "cell_type": "code",
   "execution_count": 37,
   "id": "b441129a-5765-4a22-8845-f17c4627286c",
   "metadata": {},
   "outputs": [
    {
     "data": {
      "text/plain": [
       "1.30399"
      ]
     },
     "execution_count": 37,
     "metadata": {},
     "output_type": "execute_result"
    }
   ],
   "source": [
    "q = htf['Bear2'].tail(15).dropna()\n",
    "f = q.iloc[-2:]\n",
    "round(f.iloc[-2],5)"
   ]
  },
  {
   "cell_type": "code",
   "execution_count": 22,
   "id": "971e9a25-04dc-44ce-8958-935f63de2737",
   "metadata": {},
   "outputs": [
    {
     "name": "stdout",
     "output_type": "stream",
     "text": [
      "No Pattern Found!\n"
     ]
    }
   ],
   "source": [
    "if MS == 'Bullish':\n",
    "    if htf.loc[idx,'Bullish swing'] == True:\n",
    "        bull_low1 = Bull1['low']\n",
    "    if Bull1['time'] < Bull2['time']:\n",
    "        bull_high = Bull2['high']\n",
    "        bulldis_high = bull_high\n",
    "    if Bull2['time'] < Bull3['time']:\n",
    "        bull_low2 = Bull3['low']\n",
    "        bulldis_low = bull_low2\n",
    "    if Bull1['low'] > Bull3['low']:\n",
    "        start_time = Bull1['time']\n",
    "        end_time = Bull3['time']\n",
    "        print ('Start time is:',start_time)\n",
    "        print ('End time is:',end_time)\n",
    "        print ('Price Entry Zone is from', bulldis_low, 'to', bulldis_high)\n",
    "    else:\n",
    "        print (\"No Pattern Found!\")\n",
    "else:\n",
    "    if htf.loc[idx,'Bearish swing'] == True:\n",
    "        Bear_low1 = Bear1['high']\n",
    "    if Bear1['time'] < Bear2['time']:\n",
    "        Bear_high = Bear2['low']\n",
    "        beardis_high = Bear_high\n",
    "    if Bear2['time'] < Bear3['time']:\n",
    "        Bear_low2 = Bear3['high']\n",
    "        beardis_low = Bear_low2\n",
    "    if Bear1['low'] > Bear3['low']:\n",
    "        start_time = Bear1['high']\n",
    "        end_time = Bear3['time']\n",
    "        print ('Start time is:',start_time)\n",
    "        print ('End time is:',end_time)\n",
    "        print ('Price Entry Zone is from', beardis_low, 'to', beardis_high)\n",
    "    else:\n",
    "        print (\"No Pattern Found!\")"
   ]
  },
  {
   "cell_type": "code",
   "execution_count": 8,
   "id": "382529a1-2480-49eb-b062-01726eba0dc1",
   "metadata": {},
   "outputs": [
    {
     "data": {
      "text/plain": [
       "1.30515"
      ]
     },
     "execution_count": 8,
     "metadata": {},
     "output_type": "execute_result"
    }
   ],
   "source": [
    "Bear_low1"
   ]
  },
  {
   "cell_type": "code",
   "execution_count": 9,
   "id": "251bb022-f594-47a7-9d5d-b68bb1f531f6",
   "metadata": {},
   "outputs": [
    {
     "ename": "NameError",
     "evalue": "name 'Bear_high' is not defined",
     "output_type": "error",
     "traceback": [
      "\u001b[1;31m---------------------------------------------------------------------------\u001b[0m",
      "\u001b[1;31mNameError\u001b[0m                                 Traceback (most recent call last)",
      "Input \u001b[1;32mIn [9]\u001b[0m, in \u001b[0;36m<cell line: 1>\u001b[1;34m()\u001b[0m\n\u001b[1;32m----> 1\u001b[0m \u001b[43mBear_high\u001b[49m\n",
      "\u001b[1;31mNameError\u001b[0m: name 'Bear_high' is not defined"
     ]
    }
   ],
   "source": [
    "Bear_high"
   ]
  },
  {
   "cell_type": "code",
   "execution_count": null,
   "id": "568d1dac-f6f5-41ec-977b-fb6c48e4f945",
   "metadata": {},
   "outputs": [],
   "source": []
  }
 ],
 "metadata": {
  "kernelspec": {
   "display_name": "Python 3 (ipykernel)",
   "language": "python",
   "name": "python3"
  },
  "language_info": {
   "codemirror_mode": {
    "name": "ipython",
    "version": 3
   },
   "file_extension": ".py",
   "mimetype": "text/x-python",
   "name": "python",
   "nbconvert_exporter": "python",
   "pygments_lexer": "ipython3",
   "version": "3.10.5"
  }
 },
 "nbformat": 4,
 "nbformat_minor": 5
}
